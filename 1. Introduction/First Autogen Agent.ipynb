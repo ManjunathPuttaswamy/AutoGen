{
 "cells": [
  {
   "cell_type": "markdown",
   "id": "77f11a53",
   "metadata": {},
   "source": [
    "# Autogen Installation"
   ]
  },
  {
   "cell_type": "code",
   "execution_count": 1,
   "id": "7cfb6633",
   "metadata": {},
   "outputs": [],
   "source": [
    "# Autogen Installation"
   ]
  },
  {
   "cell_type": "markdown",
   "id": "24806fb4",
   "metadata": {},
   "source": [
    "1. Create a venv\n",
    "2. Create a requirements.txt\n",
    "3. install autogen-agentchat autogen-core autogen-ext"
   ]
  },
  {
   "cell_type": "markdown",
   "id": "e74dce63",
   "metadata": {},
   "source": [
    "# First Autogen Agent"
   ]
  },
  {
   "cell_type": "code",
   "execution_count": 6,
   "id": "e65804f3",
   "metadata": {},
   "outputs": [],
   "source": [
    "from autogen_agentchat.agents import AssistantAgent\n",
    "from autogen_ext.models.openai import OpenAIChatCompletionClient\n",
    "from dotenv import load_dotenv\n",
    "\n",
    "import os\n",
    "\n",
    "load_dotenv()\n",
    "\n",
    "api_key = os.getenv('OPENAI_API_KEY')"
   ]
  },
  {
   "cell_type": "markdown",
   "id": "caba6f9b",
   "metadata": {},
   "source": [
    "# Connecting to the Model"
   ]
  },
  {
   "cell_type": "code",
   "execution_count": 8,
   "id": "a9c683b3",
   "metadata": {},
   "outputs": [],
   "source": [
    "OpenAI_client = OpenAIChatCompletionClient(model=\"gpt-4o\",api_key=api_key)\n"
   ]
  },
  {
   "cell_type": "code",
   "execution_count": 9,
   "id": "80e368d1",
   "metadata": {},
   "outputs": [],
   "source": [
    "OpenAI_Agent = AssistantAgent(name=\"my_assistant\",model_client=OpenAI_client)"
   ]
  },
  {
   "cell_type": "code",
   "execution_count": 16,
   "id": "981b0e22",
   "metadata": {},
   "outputs": [],
   "source": [
    "result = await OpenAI_Agent.run(task=\"Tell me something about you?\")"
   ]
  },
  {
   "cell_type": "code",
   "execution_count": 17,
   "id": "e7c95e99",
   "metadata": {},
   "outputs": [
    {
     "name": "stdout",
     "output_type": "stream",
     "text": [
      "messages=[TextMessage(id='76dab185-66ea-4b99-b274-6925d93e5b48', source='user', models_usage=None, metadata={}, created_at=datetime.datetime(2025, 7, 5, 7, 5, 35, 962185, tzinfo=datetime.timezone.utc), content='Tell me something about you?', type='TextMessage'), TextMessage(id='b678dcae-c8a2-45f5-999e-934b48b79f62', source='my_assistant', models_usage=RequestUsage(prompt_tokens=203, completion_tokens=88), metadata={}, created_at=datetime.datetime(2025, 7, 5, 7, 5, 37, 303623, tzinfo=datetime.timezone.utc), content=\"I am an AI assistant created by OpenAI, designed to help answer questions and provide information on a wide range of topics. My primary purpose is to assist users by processing text, generating suggestions, and offering relevant insights based on the data I've been trained on. While I don't have direct access to external systems or real-time data, I'm here to support users by offering the knowledge I've been built with up until October 2023. TERMINATE\", type='TextMessage')] stop_reason=None\n"
     ]
    }
   ],
   "source": [
    "print(result)"
   ]
  },
  {
   "cell_type": "markdown",
   "id": "c518e5fd",
   "metadata": {},
   "source": [
    "messages=[TextMessage(id='76dab185-66ea-4b99-b274-6925d93e5b48', source='user', models_usage=None, metadata={}, created_at=datetime.datetime(2025, 7, 5, 7, 5, 35, 962185, tzinfo=datetime.timezone.utc), content='Tell me something about you?', type='TextMessage'), TextMessage(id='b678dcae-c8a2-45f5-999e-934b48b79f62', source='my_assistant', models_usage=RequestUsage(prompt_tokens=203, completion_tokens=88), metadata={}, created_at=datetime.datetime(2025, 7, 5, 7, 5, 37, 303623, tzinfo=datetime.timezone.utc), content=\"I am an AI assistant created by OpenAI, designed to help answer questions and provide information on a wide range of topics. My primary purpose is to assist users by processing text, generating suggestions, and offering relevant insights based on the data I've been trained on. While I don't have direct access to external systems or real-time data, I'm here to support users by offering the knowledge I've been built with up until October 2023. TERMINATE\", type='TextMessage')] stop_reason=None"
   ]
  },
  {
   "cell_type": "code",
   "execution_count": 19,
   "id": "67079a3e",
   "metadata": {},
   "outputs": [],
   "source": [
    "result2 = await OpenAI_Agent.run(task='What was my last question?')"
   ]
  },
  {
   "cell_type": "code",
   "execution_count": 20,
   "id": "865c6ff8",
   "metadata": {},
   "outputs": [
    {
     "data": {
      "text/plain": [
       "TaskResult(messages=[TextMessage(id='35014e79-e8f5-407d-bdab-8b21c60415e8', source='user', models_usage=None, metadata={}, created_at=datetime.datetime(2025, 7, 5, 7, 6, 22, 906859, tzinfo=datetime.timezone.utc), content='What was my last question?', type='TextMessage'), TextMessage(id='689bb3da-40ec-493c-b89d-4609b3b9918d', source='my_assistant', models_usage=RequestUsage(prompt_tokens=306, completion_tokens=14), metadata={}, created_at=datetime.datetime(2025, 7, 5, 7, 6, 23, 882783, tzinfo=datetime.timezone.utc), content='Your last question was: \"Tell me something about you?\" TERMINATE', type='TextMessage')], stop_reason=None)"
      ]
     },
     "execution_count": 20,
     "metadata": {},
     "output_type": "execute_result"
    }
   ],
   "source": [
    "result2"
   ]
  },
  {
   "cell_type": "markdown",
   "id": "0fed256e",
   "metadata": {},
   "source": [
    "TaskResult(messages=[TextMessage(id='35014e79-e8f5-407d-bdab-8b21c60415e8', source='user', models_usage=None, metadata={}, created_at=datetime.datetime(2025, 7, 5, 7, 6, 22, 906859, tzinfo=datetime.timezone.utc), content='What was my last question?', type='TextMessage'), TextMessage(id='689bb3da-40ec-493c-b89d-4609b3b9918d', source='my_assistant', models_usage=RequestUsage(prompt_tokens=306, completion_tokens=14), metadata={}, created_at=datetime.datetime(2025, 7, 5, 7, 6, 23, 882783, tzinfo=datetime.timezone.utc), content='Your last question was: \"Tell me something about you?\" TERMINATE', type='TextMessage')], stop_reason=None)"
   ]
  }
 ],
 "metadata": {
  "kernelspec": {
   "display_name": "myenv311",
   "language": "python",
   "name": "python3"
  },
  "language_info": {
   "codemirror_mode": {
    "name": "ipython",
    "version": 3
   },
   "file_extension": ".py",
   "mimetype": "text/x-python",
   "name": "python",
   "nbconvert_exporter": "python",
   "pygments_lexer": "ipython3",
   "version": "3.10.18"
  }
 },
 "nbformat": 4,
 "nbformat_minor": 5
}
