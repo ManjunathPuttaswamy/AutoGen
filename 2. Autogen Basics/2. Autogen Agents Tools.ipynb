{
 "cells": [
  {
   "cell_type": "markdown",
   "id": "a5854331",
   "metadata": {},
   "source": [
    "# Tools"
   ]
  },
  {
   "cell_type": "markdown",
   "id": "15448cfe",
   "metadata": {},
   "source": [
    "There are 3 types of Tools:\n",
    "\n",
    "1. Custom Functions\n",
    "2. Built In\n",
    "3. 3rd Party"
   ]
  },
  {
   "cell_type": "code",
   "execution_count": 1,
   "id": "77165d49",
   "metadata": {},
   "outputs": [],
   "source": [
    "import asyncio\n",
    "from autogen_agentchat.agents import AssistantAgent\n",
    "from autogen_ext.models.openai import OpenAIChatCompletionClient\n",
    "from autogen_core.tools import FunctionTool\n",
    "import os\n",
    "from dotenv import load_dotenv\n",
    "\n",
    "# Load environment variables\n",
    "load_dotenv()\n",
    "api_key = os.getenv(\"OPENAI_API_KEY\")\n",
    "if not api_key:\n",
    "    raise ValueError(\"Please set the OPENAI_API_KEY environment variable.\")\n",
    "\n",
    "\n",
    "model_client=OpenAIChatCompletionClient(model='gpt-4o',api_key=api_key)\n",
    "\n",
    "def reverse_string(text: str) -> str:\n",
    "    '''\n",
    "    Reverse the given text\n",
    "\n",
    "    input:str\n",
    "\n",
    "    output:str\n",
    "\n",
    "    The reverse string is returned.\n",
    "    '''\n",
    "    return text[::-1]\n",
    "\n",
    "reverse_tool = FunctionTool(reverse_string,description='A tool to reverse a string')\n",
    "\n",
    "\n",
    "\n",
    "agent = AssistantAgent(\n",
    "    name=\"ReverseStringAgent\",\n",
    "    model_client= model_client,\n",
    "    system_message='You are a helpful assistant that can reverse string using reverse_string tool. Give the result with summary',\n",
    "    tools=[reverse_tool]\n",
    ")\n",
    "\n",
    "\n",
    "result = await agent.run(task = 'Reverse the string \"Hello, World!\"')"
   ]
  },
  {
   "cell_type": "code",
   "execution_count": 2,
   "id": "25dade41",
   "metadata": {},
   "outputs": [
    {
     "name": "stdout",
     "output_type": "stream",
     "text": [
      "messages=[TextMessage(id='d7b40108-4ece-4ac1-834e-581cc68c7e4c', source='user', models_usage=None, metadata={}, created_at=datetime.datetime(2025, 7, 6, 6, 6, 44, 409199, tzinfo=datetime.timezone.utc), content='Reverse the string \"Hello, World!\"', type='TextMessage'), ToolCallRequestEvent(id='e5839d8c-7dce-48e5-83eb-a7cd80346393', source='ReverseStringAgent', models_usage=RequestUsage(prompt_tokens=79, completion_tokens=17), metadata={}, created_at=datetime.datetime(2025, 7, 6, 6, 6, 46, 39148, tzinfo=datetime.timezone.utc), content=[FunctionCall(id='call_zRtzeZBn6OUzuyor9R2KY213', arguments='{\"text\":\"Hello, World!\"}', name='reverse_string')], type='ToolCallRequestEvent'), ToolCallExecutionEvent(id='0ef20734-2c5b-4243-8ba8-9db21d23d265', source='ReverseStringAgent', models_usage=None, metadata={}, created_at=datetime.datetime(2025, 7, 6, 6, 6, 46, 40186, tzinfo=datetime.timezone.utc), content=[FunctionExecutionResult(content='!dlroW ,olleH', name='reverse_string', call_id='call_zRtzeZBn6OUzuyor9R2KY213', is_error=False)], type='ToolCallExecutionEvent'), ToolCallSummaryMessage(id='bcb46fee-63a3-4e0a-b153-3476453c74f3', source='ReverseStringAgent', models_usage=None, metadata={}, created_at=datetime.datetime(2025, 7, 6, 6, 6, 46, 40186, tzinfo=datetime.timezone.utc), content='!dlroW ,olleH', type='ToolCallSummaryMessage', tool_calls=[FunctionCall(id='call_zRtzeZBn6OUzuyor9R2KY213', arguments='{\"text\":\"Hello, World!\"}', name='reverse_string')], results=[FunctionExecutionResult(content='!dlroW ,olleH', name='reverse_string', call_id='call_zRtzeZBn6OUzuyor9R2KY213', is_error=False)])] stop_reason=None\n"
     ]
    }
   ],
   "source": [
    "print(result)"
   ]
  },
  {
   "cell_type": "code",
   "execution_count": null,
   "id": "874ac67b",
   "metadata": {},
   "outputs": [],
   "source": []
  }
 ],
 "metadata": {
  "kernelspec": {
   "display_name": "myenv311",
   "language": "python",
   "name": "python3"
  },
  "language_info": {
   "codemirror_mode": {
    "name": "ipython",
    "version": 3
   },
   "file_extension": ".py",
   "mimetype": "text/x-python",
   "name": "python",
   "nbconvert_exporter": "python",
   "pygments_lexer": "ipython3",
   "version": "3.10.18"
  }
 },
 "nbformat": 4,
 "nbformat_minor": 5
}
