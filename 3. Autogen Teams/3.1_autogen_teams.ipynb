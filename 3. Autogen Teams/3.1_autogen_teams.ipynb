{
 "cells": [
  {
   "cell_type": "markdown",
   "id": "2f39fc65",
   "metadata": {},
   "source": [
    "#### Agents in Team"
   ]
  },
  {
   "cell_type": "code",
   "execution_count": 1,
   "id": "c5d2fc38",
   "metadata": {},
   "outputs": [],
   "source": [
    "import asyncio\n",
    "from autogen_ext.models.openai import OpenAIChatCompletionClient\n",
    "from dotenv import load_dotenv\n",
    "import os\n",
    "\n",
    "load_dotenv()\n",
    "api_key = os.getenv('OPENAI_API_KEY')\n",
    "model_client = OpenAIChatCompletionClient(model='gpt-4o', api_key=api_key)"
   ]
  },
  {
   "cell_type": "code",
   "execution_count": 21,
   "id": "7322b756",
   "metadata": {},
   "outputs": [],
   "source": [
    "from autogen_agentchat.agents import AssistantAgent\n",
    "\n",
    "dsa_solver = AssistantAgent(\n",
    "    name = 'Complex_DSA_Solver',\n",
    "    model_client=model_client,\n",
    "    description='A DSA solver',\n",
    "    system_message=\"You give code in python to solve complex DSA problems. Give under 100 words.\"\n",
    ")\n",
    "\n",
    "code_reviewer = AssistantAgent(\n",
    "    name = 'CODE_REVIEWER',\n",
    "    model_client=model_client,\n",
    "    description='A Code Reviewer',\n",
    "    system_message=\"You review the code given by the complex_dsa_solver and make sure it is optimized.Give under 10 words. If you feel that the code is fine, please say 'TERMINATE'\"\n",
    ")\n",
    "\n",
    "code_editor = AssistantAgent(\n",
    "    name = 'CODE_EDITOR',\n",
    "    model_client=model_client,\n",
    "    description='A Code editor',\n",
    "    system_message=\"You make the code easy to understand and add comments wherever required.Give under 10 words\"\n",
    ")"
   ]
  },
  {
   "cell_type": "code",
   "execution_count": 22,
   "id": "576cebed",
   "metadata": {},
   "outputs": [],
   "source": [
    "from autogen_agentchat.teams import RoundRobinGroupChat\n",
    "from autogen_agentchat.messages import TextMessage\n",
    "\n",
    "team = RoundRobinGroupChat(\n",
    "    participants=[dsa_solver, code_reviewer, code_editor],\n",
    "    max_turns=3   \n",
    ")"
   ]
  },
  {
   "cell_type": "code",
   "execution_count": 23,
   "id": "083e79fa",
   "metadata": {},
   "outputs": [
    {
     "name": "stdout",
     "output_type": "stream",
     "text": [
      "messages=[TextMessage(id='23a5e2ac-0dd7-416e-9fee-1ad4e9613f3d', source='user', models_usage=None, metadata={}, created_at=datetime.datetime(2025, 7, 13, 5, 58, 32, 977241, tzinfo=datetime.timezone.utc), content='write a simple code in python to add 2 numbers', type='TextMessage'), TextMessage(id='a6dc7e30-5ae6-48c5-8727-cc3518418286', source='Complex_DSA_Solver', models_usage=RequestUsage(prompt_tokens=41, completion_tokens=43), metadata={}, created_at=datetime.datetime(2025, 7, 13, 5, 58, 34, 451588, tzinfo=datetime.timezone.utc), content='```python\\ndef add_numbers(num1, num2):\\n    return num1 + num2\\n\\n# Example usage\\nresult = add_numbers(5, 3)\\nprint(\"The sum is:\", result)\\n```', type='TextMessage'), TextMessage(id='b464e58f-3118-45c2-8f20-32dd3087a278', source='CODE_REVIEWER', models_usage=RequestUsage(prompt_tokens=116, completion_tokens=3), metadata={}, created_at=datetime.datetime(2025, 7, 13, 5, 58, 34, 947283, tzinfo=datetime.timezone.utc), content='TERMINATE', type='TextMessage'), TextMessage(id='41a7f373-d128-4a1d-9e44-2e0efc87995e', source='CODE_EDITOR', models_usage=RequestUsage(prompt_tokens=106, completion_tokens=74), metadata={}, created_at=datetime.datetime(2025, 7, 13, 5, 58, 36, 38892, tzinfo=datetime.timezone.utc), content='```python\\ndef add_numbers(num1, num2):  # Function to add two numbers\\n    return num1 + num2        # Return their sum\\n\\n# Example usage of the function\\nresult = add_numbers(5, 3)    # Adding 5 and 3\\nprint(\"The sum is:\", result)  # Print the result\\n```', type='TextMessage')] stop_reason='Maximum number of turns 3 reached.'\n"
     ]
    }
   ],
   "source": [
    "async def run_team():\n",
    "    task = TextMessage(content='write a simple code in python to add 2 numbers',source='user')\n",
    "\n",
    "    result = await team.run(task=task)\n",
    "\n",
    "\n",
    "    print(result)\n",
    "\n",
    "await run_team()"
   ]
  },
  {
   "cell_type": "markdown",
   "id": "efedbd75",
   "metadata": {},
   "source": [
    "\"\"\"\n",
    " messages=[\n",
    "    TextMessage(id='51a905cc-5572-43dd-98c3-53c2eed24b16', source='user', models_usage=None, metadata={}, created_at=datetime.datetime(2025, 7, 12, 4, 40, 29, 124963, tzinfo=datetime.timezone.utc), content='write a simple code in python to add 2 numbers', type='TextMessage'), \n",
    "    \n",
    "    TextMessage(id='74116932-f287-43fe-a188-30a9992823b7', source='Complex_DSA_Solver', models_usage=RequestUsage(prompt_tokens=40, completion_tokens=107), metadata={}, created_at=datetime.datetime(2025, 7, 12, 4, 40, 32, 949516, tzinfo=datetime.timezone.utc), content='Certainly! Here is a simple Python code to add two numbers:\\n\\n```python\\n# Function to add two numbers\\ndef add_numbers(num1, num2):\\n    return num1 + num2\\n\\n# Example usage\\nnumber1 = 5\\nnumber2 = 3\\nresult = add_numbers(number1, number2)\\n\\nprint(\"The sum is:\", result)\\n```\\n\\nThis code defines a function `add_numbers` that takes two parameters and returns their sum. It then calls this function with example numbers and prints the result.', type='TextMessage'), \n",
    "    \n",
    "    TextMessage(id='de6bf520-13d7-46c0-898d-249d9614dd73', source='CODE_REVIEWER', models_usage=RequestUsage(prompt_tokens=163, completion_tokens=11), metadata={}, created_at=datetime.datetime(2025, 7, 12, 4, 40, 34, 347278, tzinfo=datetime.timezone.utc), content='Simplify code; directly add variables without a function.', type='TextMessage'), \n",
    "    \n",
    "    TextMessage(id='442cf157-9213-4f83-9077-4b0c1ff2896a', source='CODE_EDITOR', models_usage=RequestUsage(prompt_tokens=178, completion_tokens=66), metadata={}, created_at=datetime.datetime(2025, 7, 12, 4, 40, 36, 402981, tzinfo=datetime.timezone.utc), content='Sure! Here\\'s a simplified version:\\n\\n```python\\n# Define two numbers\\nnumber1 = 5\\nnumber2 = 3\\n\\n# Add the numbers\\nresult = number1 + number2\\n\\n# Print the result\\nprint(\"The sum is:\", result)\\n```\\n\\nThis is straightforward, directly adding and printing the result.', type='TextMessage')] \n",
    "    \n",
    "    stop_reason='Maximum number of turns 3 reached.'\n",
    "\"\"\""
   ]
  },
  {
   "cell_type": "code",
   "execution_count": 13,
   "id": "77700b9b",
   "metadata": {},
   "outputs": [
    {
     "name": "stdout",
     "output_type": "stream",
     "text": [
      "messages=[TextMessage(id='00fafe51-6bcc-48c8-8f65-978c8f3a927c', source='user', models_usage=None, metadata={}, created_at=datetime.datetime(2025, 7, 13, 5, 53, 12, 342233, tzinfo=datetime.timezone.utc), content='write a simple code in python to add 2 numbers', type='TextMessage'), TextMessage(id='dc2c6863-b784-4f7e-94fb-3ae3ce1183cf', source='Complex_DSA_Solver', models_usage=RequestUsage(prompt_tokens=131, completion_tokens=77), metadata={}, created_at=datetime.datetime(2025, 7, 13, 5, 53, 13, 495746, tzinfo=datetime.timezone.utc), content='```python\\n# Function to add two numbers\\ndef add_numbers(a, b):\\n    return a + b\\n\\n# Example usage\\nnum1 = 3\\nnum2 = 4\\nresult = add_numbers(num1, num2)\\nprint(\"The sum is:\", result)\\n```\\nThis code defines a simple function to add two numbers and then calls it with example values.', type='TextMessage')] stop_reason='Maximum number of turns 1 reached.'\n"
     ]
    }
   ],
   "source": [
    "from autogen_agentchat.teams import RoundRobinGroupChat\n",
    "from autogen_agentchat.messages import TextMessage\n",
    "\n",
    "team = RoundRobinGroupChat(\n",
    "    participants=[dsa_solver, code_reviewer, code_editor],\n",
    "    max_turns=1   \n",
    ")\n",
    "\n",
    "async def run_team():\n",
    "    task = TextMessage(content='write a simple code in python to add 2 numbers',source='user')\n",
    "\n",
    "    result = await team.run(task=task)\n",
    "\n",
    "\n",
    "    print(result)\n",
    "\n",
    "await run_team()"
   ]
  },
  {
   "cell_type": "markdown",
   "id": "7e95d23f",
   "metadata": {},
   "source": [
    "messages=[\n",
    "    \n",
    "    \n",
    "    TextMessage(id='15328376-2a2b-4375-8e18-b31afd6cc8ca', source='user', models_usage=None, metadata={}, created_at=datetime.datetime(2025, 7, 12, 4, 46, 49, 990748, tzinfo=datetime.timezone.utc), content='write a simple code in python to add 2 numbers', type='TextMessage'), \n",
    "          \n",
    "    1 .TextMessage(id='af44b30c-ea76-46db-a20d-acf74f379aee', source='Complex_DSA_Solver', models_usage=RequestUsage(prompt_tokens=167, completion_tokens=92), metadata={}, created_at=datetime.datetime(2025, 7, 12, 4, 46, 51, 883189, tzinfo=datetime.timezone.utc), content='Sure! Here is a simple Python code to add two numbers:\\n\\n```python\\n# Input two numbers\\nnum1 = float(input(\"Enter first number: \"))\\nnum2 = float(input(\"Enter second number: \"))\\n\\n# Calculate the sum\\nsum = num1 + num2\\n\\n# Print the result\\nprint(\"The sum is:\", sum)\\n```\\n\\nThis code takes two numbers as input from the user, calculates their sum, and prints the result.', type='TextMessage')\n",
    "    \n",
    "          ] stop_reason='Maximum number of turns 1 reached.'"
   ]
  },
  {
   "cell_type": "code",
   "execution_count": 14,
   "id": "8dd2f14d",
   "metadata": {},
   "outputs": [
    {
     "name": "stdout",
     "output_type": "stream",
     "text": [
      "messages=[TextMessage(id='ecbd82f0-935c-4c4e-9730-7c6b9510371e', source='user', models_usage=None, metadata={}, created_at=datetime.datetime(2025, 7, 13, 5, 53, 17, 19507, tzinfo=datetime.timezone.utc), content='write a simple code in python to add 2 numbers', type='TextMessage'), TextMessage(id='8955dd86-cd1f-46e8-9870-e412132194e2', source='Complex_DSA_Solver', models_usage=RequestUsage(prompt_tokens=228, completion_tokens=80), metadata={}, created_at=datetime.datetime(2025, 7, 13, 5, 53, 18, 290028, tzinfo=datetime.timezone.utc), content='```python\\n# Take input from the user\\nnum1 = float(input(\"Enter first number: \"))\\nnum2 = float(input(\"Enter second number: \"))\\n\\n# Calculate the sum\\nsum = num1 + num2\\n\\n# Print the result\\nprint(\"The sum is:\", sum)\\n```\\n\\nThis code prompts the user to input two numbers, calculates their sum, and prints the result.', type='TextMessage'), TextMessage(id='20891910-00f3-45c1-8fd9-8554fb1ffe4b', source='CODE_REVIEWER', models_usage=RequestUsage(prompt_tokens=253, completion_tokens=10), metadata={}, created_at=datetime.datetime(2025, 7, 13, 5, 53, 18, 949999, tzinfo=datetime.timezone.utc), content='Code is clear and efficient for input-based addition.', type='TextMessage'), TextMessage(id='b1c41f60-bf01-47ef-8099-5efc9a8adb7e', source='CODE_EDITOR', models_usage=RequestUsage(prompt_tokens=276, completion_tokens=6), metadata={}, created_at=datetime.datetime(2025, 7, 13, 5, 53, 19, 526721, tzinfo=datetime.timezone.utc), content='Thank you! Happy coding!', type='TextMessage'), TextMessage(id='71e674c5-a71c-4204-bb19-18a5f4d97013', source='Complex_DSA_Solver', models_usage=RequestUsage(prompt_tokens=344, completion_tokens=22), metadata={}, created_at=datetime.datetime(2025, 7, 13, 5, 53, 20, 334105, tzinfo=datetime.timezone.utc), content=\"You're welcome! If you have any more questions or need further assistance, feel free to ask. Happy coding!\", type='TextMessage'), TextMessage(id='bebba76d-b018-404c-8777-3c1cab659362', source='CODE_REVIEWER', models_usage=RequestUsage(prompt_tokens=312, completion_tokens=7), metadata={}, created_at=datetime.datetime(2025, 7, 13, 5, 53, 20, 963625, tzinfo=datetime.timezone.utc), content='Glad to help! Enjoy coding!', type='TextMessage'), TextMessage(id='24931c84-3a5f-4ed9-9541-889ee4d1b6e1', source='CODE_EDITOR', models_usage=RequestUsage(prompt_tokens=334, completion_tokens=11), metadata={}, created_at=datetime.datetime(2025, 7, 13, 5, 53, 21, 790782, tzinfo=datetime.timezone.utc), content='Thanks! Let me know if you need more help!', type='TextMessage')] stop_reason='Maximum number of turns 6 reached.'\n"
     ]
    }
   ],
   "source": [
    "from autogen_agentchat.teams import RoundRobinGroupChat\n",
    "from autogen_agentchat.messages import TextMessage\n",
    "\n",
    "team = RoundRobinGroupChat(\n",
    "    participants=[dsa_solver, code_reviewer, code_editor],\n",
    "    max_turns=6  \n",
    ")\n",
    "\n",
    "\n",
    "async def run_team():\n",
    "    task = TextMessage(content='write a simple code in python to add 2 numbers',source='user')\n",
    "\n",
    "    result = await team.run(task=task)\n",
    "\n",
    "\n",
    "    print(result)\n",
    "\n",
    "await run_team()"
   ]
  },
  {
   "cell_type": "markdown",
   "id": "c31b279a",
   "metadata": {},
   "source": [
    "messages=[\n",
    "    \n",
    "    TextMessage(id='d24509ac-1a54-407f-9a29-90e72c2d89e7', source='user', models_usage=None, metadata={}, created_at=datetime.datetime(2025, 7, 12, 4, 48, 30, 725154, tzinfo=datetime.timezone.utc), content='write a simple code in python to add 2 numbers', type='TextMessage'), \n",
    "    \n",
    "   1.  TextMessage(id='6c524b7e-7d40-4954-9d1f-8988befa9902', source='Complex_DSA_Solver', models_usage=RequestUsage(prompt_tokens=279, completion_tokens=76), metadata={}, created_at=datetime.datetime(2025, 7, 12, 4, 48, 32, 224395, tzinfo=datetime.timezone.utc), content='Certainly! Here is a straightforward Python code to add two numbers:\\n\\n```python\\n# Define two numbers\\nnum1 = 10\\nnum2 = 15\\n\\n# Calculate the sum\\nsum = num1 + num2\\n\\n# Print the result\\nprint(\"The sum is:\", sum)\\n```\\n\\nThis script defines two numbers, calculates their sum, and prints the result.', type='TextMessage'), \n",
    "    \n",
    "    \n",
    "    2. TextMessage(id='42af9a71-3f69-40d9-be0a-3975c62c6759', source='CODE_REVIEWER', models_usage=RequestUsage(prompt_tokens=280, completion_tokens=15), metadata={}, created_at=datetime.datetime(2025, 7, 12, 4, 48, 33, 363036, tzinfo=datetime.timezone.utc), content='Directly print the sum: `print(num1 + num2)`.', type='TextMessage'), \n",
    "    \n",
    "    \n",
    "    3. TextMessage(id='ba70f62d-cd20-456e-8c6e-45131fcd8322', source='CODE_EDITOR', models_usage=RequestUsage(prompt_tokens=374, completion_tokens=60), metadata={}, created_at=datetime.datetime(2025, 7, 12, 4, 48, 36, 218566, tzinfo=datetime.timezone.utc), content='Certainly! Here\\'s an even simpler version:\\n\\n```python\\n# Define two numbers\\nnum1 = 10\\nnum2 = 15\\n\\n# Directly print the sum\\nprint(\"The sum is:\", num1 + num2)\\n```\\n\\nThis version directly prints the sum of the two numbers.', type='TextMessage'), \n",
    "    \n",
    "    \n",
    "    4. TextMessage(id='be7b5772-b79f-480c-b142-bda95c3aae5c', source='Complex_DSA_Solver', models_usage=RequestUsage(prompt_tokens=450, completion_tokens=59), metadata={}, created_at=datetime.datetime(2025, 7, 12, 4, 48, 37, 631782, tzinfo=datetime.timezone.utc), content=\"Great suggestion! Here's the revised code with direct printing:\\n\\n```python\\n# Define two numbers\\nnum1 = 10\\nnum2 = 15\\n\\n# Directly print the sum\\nprint(num1 + num2)\\n```\\n\\nThis code eliminates the intermediate variable and prints the sum directly.\", type='TextMessage'), \n",
    "    \n",
    "    \n",
    "    5. TextMessage(id='25f541bc-39a6-468e-be9b-c5967a1c999b', source='CODE_REVIEWER', models_usage=RequestUsage(prompt_tokens=435, completion_tokens=16), metadata={}, created_at=datetime.datetime(2025, 7, 12, 4, 48, 38, 834616, tzinfo=datetime.timezone.utc), content='Eliminate comments; directly print: `print(10 + 15)`.', type='TextMessage'), \n",
    "    \n",
    "    \n",
    "    \n",
    "    \n",
    "    6. TextMessage(id='11f799c8-ae0e-4803-9851-af173929bca6', source='CODE_EDITOR', models_usage=RequestUsage(prompt_tokens=532, completion_tokens=36), metadata={}, created_at=datetime.datetime(2025, 7, 12, 4, 48, 40, 433738, tzinfo=datetime.timezone.utc), content=\"Sure! Here's the simplest version:\\n\\n```python\\nprint(10 + 15)\\n```\\n\\nThis directly prints the sum of 10 and 15 without additional variables or comments.\", type='TextMessage')] \n",
    "\n",
    "\n",
    "stop_reason='Maximum number of turns 6 reached.'"
   ]
  },
  {
   "cell_type": "code",
   "execution_count": 15,
   "id": "4abbcd82",
   "metadata": {},
   "outputs": [
    {
     "name": "stdout",
     "output_type": "stream",
     "text": [
      "user : write a simple code in python to add 2 numbers\n",
      "Complex_DSA_Solver : ```python\n",
      "# Function to add two numbers\n",
      "def add_numbers(a, b):\n",
      "    return a + b\n",
      "\n",
      "# Example usage\n",
      "num1 = 8\n",
      "num2 = 12\n",
      "result = add_numbers(num1, num2)\n",
      "print(\"The sum is:\", result)\n",
      "```\n",
      "\n",
      "This simple code defines a function to add two numbers and demonstrates its usage with example values.\n",
      "CODE_REVIEWER : Code is concise and demonstrates addition effectively.\n",
      "CODE_EDITOR : Thank you! Feel free to reach out for more help.\n",
      "Complex_DSA_Solver : You're welcome! If you have more questions or need further help, feel free to reach out. Happy coding!\n",
      "CODE_REVIEWER : Happy to help! Ask anytime for more assistance.\n",
      "CODE_EDITOR : Thanks! Feel free to ask anytime.\n",
      "Complex_DSA_Solver : Thank you! Don't hesitate to ask if you need further assistance or have more questions.\n",
      "CODE_REVIEWER : Always here to help! Don't hesitate to ask.\n",
      "CODE_EDITOR : Thanks! I'm here if you need more help.\n",
      "Complex_DSA_Solver : Thank you! I'm here whenever you need further assistance or have more questions.\n",
      "CODE_REVIEWER : You're welcome! Available for any further assistance.\n",
      "CODE_EDITOR : Thanks! I'm here if you need more help.\n",
      "Complex_DSA_Solver : Thank you! Feel free to reach out anytime you need assistance.\n",
      "CODE_REVIEWER : Available anytime for any coding assistance you need.\n"
     ]
    }
   ],
   "source": [
    "from autogen_agentchat.teams import RoundRobinGroupChat\n",
    "from autogen_agentchat.messages import TextMessage\n",
    "from autogen_agentchat.conditions import TextMentionTermination\n",
    "\n",
    "\n",
    "my_termination = TextMentionTermination(text='TERMINATE')\n",
    "\n",
    "team = RoundRobinGroupChat(\n",
    "    participants=[dsa_solver, code_reviewer, code_editor],\n",
    "    termination_condition=my_termination,\n",
    "    max_turns=14  \n",
    ")\n",
    "\n",
    "\n",
    "async def run_team():\n",
    "    task = TextMessage(content='write a simple code in python to add 2 numbers',source='user')\n",
    "\n",
    "    result = await team.run(task=task)\n",
    "\n",
    "    for each_agent_message in result.messages:\n",
    "        print(f\"{each_agent_message.source} : {each_agent_message.content}\")\n",
    "\n",
    "\n",
    "    # print(result)\n",
    "\n",
    "await run_team()"
   ]
  },
  {
   "cell_type": "code",
   "execution_count": 19,
   "id": "97be1ef6",
   "metadata": {},
   "outputs": [
    {
     "name": "stdout",
     "output_type": "stream",
     "text": [
      "user : write a simple code in python to add 2 numbers\n",
      "Complex_DSA_Solver : ```python\n",
      "# Function to add two numbers\n",
      "def add_two_numbers(a, b):\n",
      "    return a + b\n",
      "\n",
      "# Example usage\n",
      "first_number = 7\n",
      "second_number = 13\n",
      "total = add_two_numbers(first_number, second_number)\n",
      "print(\"The sum is:\", total)\n",
      "```\n",
      "\n",
      "This code snippet defines a function to add two numbers and demonstrates its use with example values.\n",
      "CODE_REVIEWER : Simple and efficient code for adding numbers.\n",
      "CODE_EDITOR : Thank you! Glad you found it efficient.\n",
      "Complex_DSA_Solver : Thank you! I'm glad to hear that you find it efficient. If you need more help, just let me know!\n",
      "CODE_REVIEWER : Pleased it's efficient! Reach out for more help anytime.\n",
      "CODE_EDITOR : Thanks! I'm here if you need more help.\n",
      "Complex_DSA_Solver : Thank you! If you have more questions or need further assistance, feel free to reach out.\n",
      "CODE_REVIEWER : Always ready to assist! Just ask when needed.\n",
      "CODE_EDITOR : Thanks! I'm here for any help you need.\n",
      "Complex_DSA_Solver : Thank you! I'm here whenever you need more assistance or have further questions.\n",
      "CODE_REVIEWER : Always here to help. Just let me know!\n",
      "CODE_EDITOR : Thanks! I'm here if you need more help.\n",
      "Complex_DSA_Solver : Thank you! If you have more questions or need further assistance, feel free to reach out!\n",
      "CODE_REVIEWER : Always available for help. Just let me know!\n"
     ]
    }
   ],
   "source": [
    "from autogen_agentchat.teams import RoundRobinGroupChat\n",
    "from autogen_agentchat.messages import TextMessage\n",
    "from autogen_agentchat.conditions import TextMentionTermination\n",
    "\n",
    "\n",
    "my_termination = TextMentionTermination(text='TERMINATE')\n",
    "\n",
    "team = RoundRobinGroupChat(\n",
    "    participants=[dsa_solver, code_reviewer, code_editor],\n",
    "    termination_condition=my_termination,\n",
    "    max_turns=14  \n",
    ")\n",
    "\n",
    "async def run_team():\n",
    "    task = TextMessage(content='write a simple code in python to add 2 numbers',source='user')\n",
    "\n",
    "    result = await team.run(task=task)\n",
    "\n",
    "    for each_agent_message in result.messages:\n",
    "        print(f\"{each_agent_message.source} : {each_agent_message.content}\")\n",
    "\n",
    "\n",
    "    # print(result)\n",
    "\n",
    "await run_team()"
   ]
  },
  {
   "cell_type": "code",
   "execution_count": null,
   "id": "911a5d6e",
   "metadata": {},
   "outputs": [
    {
     "data": {
      "text/plain": [
       "<coroutine object BaseGroupChat.reset at 0x00000137BB515D90>"
      ]
     },
     "execution_count": 28,
     "metadata": {},
     "output_type": "execute_result"
    }
   ],
   "source": [
    "team.reset()"
   ]
  },
  {
   "cell_type": "code",
   "execution_count": 25,
   "id": "023d22ca",
   "metadata": {},
   "outputs": [
    {
     "name": "stdout",
     "output_type": "stream",
     "text": [
      "<class 'autogen_agentchat.messages.TextMessage'>\n",
      "user id='371da67c-8d34-473f-9325-70e4b0ff6a32' source='user' models_usage=None metadata={} created_at=datetime.datetime(2025, 7, 13, 5, 58, 59, 931563, tzinfo=datetime.timezone.utc) content='Write a simple Hello world code ?' type='TextMessage'\n",
      "<class 'autogen_agentchat.messages.TextMessage'>\n",
      "Complex_DSA_Solver id='45ec08b2-6e4a-4955-8769-c719243247d9' source='Complex_DSA_Solver' models_usage=RequestUsage(prompt_tokens=100, completion_tokens=10) metadata={} created_at=datetime.datetime(2025, 7, 13, 5, 59, 0, 603971, tzinfo=datetime.timezone.utc) content='```python\\nprint(\"Hello, World!\")\\n```' type='TextMessage'\n",
      "<class 'autogen_agentchat.messages.TextMessage'>\n",
      "CODE_REVIEWER id='ce817216-dec4-454c-85a7-3084fc337173' source='CODE_REVIEWER' models_usage=RequestUsage(prompt_tokens=155, completion_tokens=3) metadata={} created_at=datetime.datetime(2025, 7, 13, 5, 59, 1, 27027, tzinfo=datetime.timezone.utc) content='TERMINATE' type='TextMessage'\n",
      "<class 'autogen_agentchat.base._task.TaskResult'>\n",
      "Stop Reason: Text 'TERMINATE' mentioned\n"
     ]
    }
   ],
   "source": [
    "from autogen_agentchat.base import TaskResult\n",
    "\n",
    "team_2 = RoundRobinGroupChat(\n",
    "    participants=[dsa_solver, code_reviewer, code_editor],\n",
    "    termination_condition=my_termination,\n",
    "    max_turns=6\n",
    ")\n",
    "\n",
    "async for message in team_2.run_stream(task=\"Write a simple Hello world code ?\"):  # type: ignore\n",
    "\n",
    "    print(type(message))\n",
    "    if isinstance(message, TaskResult):\n",
    "        print(\"Stop Reason:\", message.stop_reason)\n",
    "    else:\n",
    "        print(message.source,message)"
   ]
  },
  {
   "cell_type": "code",
   "execution_count": 30,
   "id": "8817f66c",
   "metadata": {},
   "outputs": [
    {
     "data": {
      "text/plain": [
       "<coroutine object BaseGroupChat.reset at 0x00000137BB515460>"
      ]
     },
     "execution_count": 30,
     "metadata": {},
     "output_type": "execute_result"
    }
   ],
   "source": [
    "team_2.reset()"
   ]
  },
  {
   "cell_type": "code",
   "execution_count": 35,
   "id": "28005ccb",
   "metadata": {},
   "outputs": [
    {
     "name": "stdout",
     "output_type": "stream",
     "text": [
      "user : write a code to add 2 numbers. TERMINATE\n"
     ]
    }
   ],
   "source": [
    "from autogen_agentchat.teams import RoundRobinGroupChat\n",
    "from autogen_agentchat.messages import TextMessage\n",
    "from autogen_agentchat.conditions import TextMentionTermination,MaxMessageTermination\n",
    "\n",
    "\n",
    "my_termination = TextMentionTermination(text='TERMINATE')  | MaxMessageTermination(max_messages=2)\n",
    "\n",
    "team = RoundRobinGroupChat(\n",
    "    participants=[dsa_solver, code_reviewer, code_editor],\n",
    "    termination_condition=my_termination,\n",
    ")\n",
    "\n",
    "\n",
    "async def run_team():\n",
    "    task = TextMessage(content='write a code to add 2 numbers. TERMINATE',source='user')\n",
    "\n",
    "    result = await team.run(task=task)\n",
    "\n",
    "    for each_agent_message in result.messages:\n",
    "        print(f\"{each_agent_message.source} : {each_agent_message.content}\")\n",
    "\n",
    "\n",
    "    #print(result)\n",
    "\n",
    "await run_team()"
   ]
  },
  {
   "cell_type": "code",
   "execution_count": 36,
   "id": "f5f1d7c9",
   "metadata": {},
   "outputs": [
    {
     "data": {
      "text/plain": [
       "<coroutine object OrTerminationCondition.reset at 0x00000137BB5F8900>"
      ]
     },
     "execution_count": 36,
     "metadata": {},
     "output_type": "execute_result"
    }
   ],
   "source": [
    "my_termination.reset()"
   ]
  },
  {
   "cell_type": "code",
   "execution_count": 37,
   "id": "1e09704f",
   "metadata": {},
   "outputs": [],
   "source": [
    "state = await team.save_state()"
   ]
  },
  {
   "cell_type": "code",
   "execution_count": 38,
   "id": "5cccfeab",
   "metadata": {},
   "outputs": [
    {
     "data": {
      "text/plain": [
       "{'type': 'TeamState',\n",
       " 'version': '1.0.0',\n",
       " 'agent_states': {'Complex_DSA_Solver': {'type': 'ChatAgentContainerState',\n",
       "   'version': '1.0.0',\n",
       "   'agent_state': {'type': 'AssistantAgentState',\n",
       "    'version': '1.0.0',\n",
       "    'llm_context': {'messages': [{'content': 'write a simple code in python to add 2 numbers',\n",
       "       'source': 'user',\n",
       "       'type': 'UserMessage'},\n",
       "      {'content': '```python\\ndef add_numbers(num1, num2):\\n    return num1 + num2\\n\\n# Example usage\\nresult = add_numbers(5, 3)\\nprint(\"The sum is:\", result)\\n```',\n",
       "       'thought': None,\n",
       "       'source': 'Complex_DSA_Solver',\n",
       "       'type': 'AssistantMessage'},\n",
       "      {'content': 'Write a simple Hello world code ?',\n",
       "       'source': 'user',\n",
       "       'type': 'UserMessage'},\n",
       "      {'content': '```python\\nprint(\"Hello, World!\")\\n```',\n",
       "       'thought': None,\n",
       "       'source': 'Complex_DSA_Solver',\n",
       "       'type': 'AssistantMessage'},\n",
       "      {'content': 'write a code to add 2 numbers. TERMINATE',\n",
       "       'source': 'user',\n",
       "       'type': 'UserMessage'},\n",
       "      {'content': '```python\\ndef add_numbers(num1, num2):\\n    return num1 + num2\\n\\n# Example usage\\nresult = add_numbers(10, 15)\\nprint(\"The sum is:\", result)\\n```',\n",
       "       'thought': None,\n",
       "       'source': 'Complex_DSA_Solver',\n",
       "       'type': 'AssistantMessage'},\n",
       "      {'content': 'write a code to add 2 numbers. TERMINATE',\n",
       "       'source': 'user',\n",
       "       'type': 'UserMessage'},\n",
       "      {'content': '```python\\ndef add_numbers(num1, num2):\\n    return num1 + num2\\n\\n# Example usage\\nresult = add_numbers(7, 9)\\nprint(\"The sum is:\", result)\\n```',\n",
       "       'thought': None,\n",
       "       'source': 'Complex_DSA_Solver',\n",
       "       'type': 'AssistantMessage'},\n",
       "      {'content': 'write a code to add 2 numbers. TERMINATE',\n",
       "       'source': 'user',\n",
       "       'type': 'UserMessage'},\n",
       "      {'content': '```python\\ndef add_numbers(num1, num2):\\n    return num1 + num2\\n\\n# Example usage\\nresult = add_numbers(4, 5)\\nprint(\"The sum is:\", result)\\n```',\n",
       "       'thought': None,\n",
       "       'source': 'Complex_DSA_Solver',\n",
       "       'type': 'AssistantMessage'},\n",
       "      {'content': 'write a code to add 2 numbers. TERMINATE',\n",
       "       'source': 'user',\n",
       "       'type': 'UserMessage'},\n",
       "      {'content': '```python\\ndef add_numbers(num1, num2):\\n    return num1 + num2\\n\\n# Example usage\\nresult = add_numbers(8, 12)\\nprint(\"The sum is:\", result)\\n```',\n",
       "       'thought': None,\n",
       "       'source': 'Complex_DSA_Solver',\n",
       "       'type': 'AssistantMessage'},\n",
       "      {'content': 'write a code to add 2 numbers. TERMINATE',\n",
       "       'source': 'user',\n",
       "       'type': 'UserMessage'},\n",
       "      {'content': '```python\\ndef add_numbers(num1, num2):\\n    return num1 + num2\\n\\n# Example usage\\nresult = add_numbers(3, 7)\\nprint(\"The sum is:\", result)\\n```',\n",
       "       'thought': None,\n",
       "       'source': 'Complex_DSA_Solver',\n",
       "       'type': 'AssistantMessage'},\n",
       "      {'content': 'write a code to add 2 numbers. TERMINATE',\n",
       "       'source': 'user',\n",
       "       'type': 'UserMessage'},\n",
       "      {'content': '```python\\ndef add_numbers(num1, num2):\\n    return num1 + num2\\n\\n# Example usage\\nresult = add_numbers(6, 11)\\nprint(\"The sum is:\", result)\\n```',\n",
       "       'thought': None,\n",
       "       'source': 'Complex_DSA_Solver',\n",
       "       'type': 'AssistantMessage'}]}},\n",
       "   'message_buffer': [{'id': '25112a4e-95fc-464a-b380-87c662c66641',\n",
       "     'source': 'user',\n",
       "     'models_usage': None,\n",
       "     'metadata': {},\n",
       "     'created_at': datetime.datetime(2025, 7, 13, 6, 3, 29, 141984, tzinfo=datetime.timezone.utc),\n",
       "     'content': 'write a code to add 2 numbers. TERMINATE',\n",
       "     'type': 'TextMessage'}]},\n",
       "  'CODE_REVIEWER': {'type': 'ChatAgentContainerState',\n",
       "   'version': '1.0.0',\n",
       "   'agent_state': {'type': 'AssistantAgentState',\n",
       "    'version': '1.0.0',\n",
       "    'llm_context': {'messages': [{'content': 'write a simple code in python to add 2 numbers',\n",
       "       'source': 'user',\n",
       "       'type': 'UserMessage'},\n",
       "      {'content': '```python\\ndef add_numbers(num1, num2):\\n    return num1 + num2\\n\\n# Example usage\\nresult = add_numbers(5, 3)\\nprint(\"The sum is:\", result)\\n```',\n",
       "       'source': 'Complex_DSA_Solver',\n",
       "       'type': 'UserMessage'},\n",
       "      {'content': 'TERMINATE',\n",
       "       'thought': None,\n",
       "       'source': 'CODE_REVIEWER',\n",
       "       'type': 'AssistantMessage'},\n",
       "      {'content': 'Write a simple Hello world code ?',\n",
       "       'source': 'user',\n",
       "       'type': 'UserMessage'},\n",
       "      {'content': '```python\\nprint(\"Hello, World!\")\\n```',\n",
       "       'source': 'Complex_DSA_Solver',\n",
       "       'type': 'UserMessage'},\n",
       "      {'content': 'TERMINATE',\n",
       "       'thought': None,\n",
       "       'source': 'CODE_REVIEWER',\n",
       "       'type': 'AssistantMessage'}]}},\n",
       "   'message_buffer': [{'id': '25112a4e-95fc-464a-b380-87c662c66641',\n",
       "     'source': 'user',\n",
       "     'models_usage': None,\n",
       "     'metadata': {},\n",
       "     'created_at': datetime.datetime(2025, 7, 13, 6, 3, 29, 141984, tzinfo=datetime.timezone.utc),\n",
       "     'content': 'write a code to add 2 numbers. TERMINATE',\n",
       "     'type': 'TextMessage'}]},\n",
       "  'CODE_EDITOR': {'type': 'ChatAgentContainerState',\n",
       "   'version': '1.0.0',\n",
       "   'agent_state': {'type': 'AssistantAgentState',\n",
       "    'version': '1.0.0',\n",
       "    'llm_context': {'messages': [{'content': 'write a simple code in python to add 2 numbers',\n",
       "       'source': 'user',\n",
       "       'type': 'UserMessage'},\n",
       "      {'content': '```python\\ndef add_numbers(num1, num2):\\n    return num1 + num2\\n\\n# Example usage\\nresult = add_numbers(5, 3)\\nprint(\"The sum is:\", result)\\n```',\n",
       "       'source': 'Complex_DSA_Solver',\n",
       "       'type': 'UserMessage'},\n",
       "      {'content': 'TERMINATE',\n",
       "       'source': 'CODE_REVIEWER',\n",
       "       'type': 'UserMessage'},\n",
       "      {'content': '```python\\ndef add_numbers(num1, num2):  # Function to add two numbers\\n    return num1 + num2        # Return their sum\\n\\n# Example usage of the function\\nresult = add_numbers(5, 3)    # Adding 5 and 3\\nprint(\"The sum is:\", result)  # Print the result\\n```',\n",
       "       'thought': None,\n",
       "       'source': 'CODE_EDITOR',\n",
       "       'type': 'AssistantMessage'}]}},\n",
       "   'message_buffer': [{'id': '25112a4e-95fc-464a-b380-87c662c66641',\n",
       "     'source': 'user',\n",
       "     'models_usage': None,\n",
       "     'metadata': {},\n",
       "     'created_at': datetime.datetime(2025, 7, 13, 6, 3, 29, 141984, tzinfo=datetime.timezone.utc),\n",
       "     'content': 'write a code to add 2 numbers. TERMINATE',\n",
       "     'type': 'TextMessage'}]},\n",
       "  'RoundRobinGroupChatManager': {'type': 'RoundRobinManagerState',\n",
       "   'version': '1.0.0',\n",
       "   'message_thread': [{'id': '25112a4e-95fc-464a-b380-87c662c66641',\n",
       "     'source': 'user',\n",
       "     'models_usage': None,\n",
       "     'metadata': {},\n",
       "     'created_at': datetime.datetime(2025, 7, 13, 6, 3, 29, 141984, tzinfo=datetime.timezone.utc),\n",
       "     'content': 'write a code to add 2 numbers. TERMINATE',\n",
       "     'type': 'TextMessage'}],\n",
       "   'current_turn': 0,\n",
       "   'next_speaker_index': 0}}}"
      ]
     },
     "execution_count": 38,
     "metadata": {},
     "output_type": "execute_result"
    }
   ],
   "source": [
    "state"
   ]
  },
  {
   "cell_type": "code",
   "execution_count": 58,
   "id": "dc18098c",
   "metadata": {},
   "outputs": [],
   "source": [
    "from autogen_agentchat.agents import AssistantAgent\n",
    "add_1_agent_first = AssistantAgent(\n",
    "    name = 'add_1_agent_first',\n",
    "    model_client=model_client,\n",
    "    system_message=\"Add 1 to the number, first number is 0. Give result as output\"\n",
    ")\n",
    "\n",
    "add_1_agent_second = AssistantAgent(\n",
    "    name = 'add_1_agent_second',\n",
    "    model_client=model_client,\n",
    "    system_message=\"Add 1 to the number you got from previous run. Give result as output.\"\n",
    ")\n",
    " \n",
    "add_1_agent_third = AssistantAgent(\n",
    "    name = 'add_1_agent_third',\n",
    "    model_client=model_client,\n",
    "    system_message=\"Add 1 to the number from previous run. Give result as output.\"\n",
    ")\n",
    "\n",
    "my_increment_team = RoundRobinGroupChat(participants=[add_1_agent_first,add_1_agent_second,add_1_agent_third],max_turns=2)"
   ]
  },
  {
   "cell_type": "code",
   "execution_count": 59,
   "id": "e711da87",
   "metadata": {},
   "outputs": [
    {
     "name": "stdout",
     "output_type": "stream",
     "text": [
      "---------- TextMessage (add_1_agent_first) ----------\n",
      "1\n",
      "---------- TextMessage (add_1_agent_second) ----------\n",
      "2\n"
     ]
    },
    {
     "data": {
      "text/plain": [
       "TaskResult(messages=[TextMessage(id='241135f3-e9b1-4176-bcc0-b09b6e92f4db', source='add_1_agent_first', models_usage=RequestUsage(prompt_tokens=24, completion_tokens=1), metadata={}, created_at=datetime.datetime(2025, 7, 13, 6, 37, 20, 529246, tzinfo=datetime.timezone.utc), content='1', type='TextMessage'), TextMessage(id='0f387b39-b079-4595-8d21-6e9a71517027', source='add_1_agent_second', models_usage=RequestUsage(prompt_tokens=34, completion_tokens=1), metadata={}, created_at=datetime.datetime(2025, 7, 13, 6, 37, 21, 267047, tzinfo=datetime.timezone.utc), content='2', type='TextMessage')], stop_reason='Maximum number of turns 2 reached.')"
      ]
     },
     "execution_count": 59,
     "metadata": {},
     "output_type": "execute_result"
    }
   ],
   "source": [
    "from autogen_agentchat.ui import Console\n",
    "\n",
    "await Console(my_increment_team.run_stream())"
   ]
  },
  {
   "cell_type": "code",
   "execution_count": 60,
   "id": "86be1b84",
   "metadata": {},
   "outputs": [
    {
     "name": "stdout",
     "output_type": "stream",
     "text": [
      "---------- TextMessage (add_1_agent_third) ----------\n",
      "3\n",
      "---------- TextMessage (add_1_agent_first) ----------\n",
      "4\n"
     ]
    },
    {
     "data": {
      "text/plain": [
       "TaskResult(messages=[TextMessage(id='792f14dd-a55b-4a1c-8c2b-fb630d2e0992', source='add_1_agent_third', models_usage=RequestUsage(prompt_tokens=42, completion_tokens=1), metadata={}, created_at=datetime.datetime(2025, 7, 13, 6, 37, 28, 674910, tzinfo=datetime.timezone.utc), content='3', type='TextMessage'), TextMessage(id='75a1bafa-849c-4989-af78-13e7a670281a', source='add_1_agent_first', models_usage=RequestUsage(prompt_tokens=50, completion_tokens=1), metadata={}, created_at=datetime.datetime(2025, 7, 13, 6, 37, 29, 230782, tzinfo=datetime.timezone.utc), content='4', type='TextMessage')], stop_reason='Maximum number of turns 2 reached.')"
      ]
     },
     "execution_count": 60,
     "metadata": {},
     "output_type": "execute_result"
    }
   ],
   "source": [
    "await Console(my_increment_team.run_stream())"
   ]
  },
  {
   "cell_type": "code",
   "execution_count": 61,
   "id": "a972a24c",
   "metadata": {},
   "outputs": [
    {
     "name": "stdout",
     "output_type": "stream",
     "text": [
      "---------- TextMessage (add_1_agent_second) ----------\n",
      "5\n",
      "---------- TextMessage (add_1_agent_third) ----------\n",
      "6\n"
     ]
    },
    {
     "data": {
      "text/plain": [
       "TaskResult(messages=[TextMessage(id='91029d14-9ee8-4199-9478-0ce8b98e6a65', source='add_1_agent_second', models_usage=RequestUsage(prompt_tokens=60, completion_tokens=1), metadata={}, created_at=datetime.datetime(2025, 7, 13, 6, 37, 34, 221566, tzinfo=datetime.timezone.utc), content='5', type='TextMessage'), TextMessage(id='b0f4e7aa-af47-418a-8a34-0f158e8c3cea', source='add_1_agent_third', models_usage=RequestUsage(prompt_tokens=67, completion_tokens=1), metadata={}, created_at=datetime.datetime(2025, 7, 13, 6, 37, 36, 238012, tzinfo=datetime.timezone.utc), content='6', type='TextMessage')], stop_reason='Maximum number of turns 2 reached.')"
      ]
     },
     "execution_count": 61,
     "metadata": {},
     "output_type": "execute_result"
    }
   ],
   "source": [
    "await Console(my_increment_team.run_stream())\n"
   ]
  },
  {
   "cell_type": "code",
   "execution_count": 62,
   "id": "628d83a0",
   "metadata": {},
   "outputs": [
    {
     "name": "stderr",
     "output_type": "stream",
     "text": [
      "C:\\Users\\admin\\AppData\\Local\\Temp\\ipykernel_33800\\1378057381.py:1: RuntimeWarning: coroutine 'BaseGroupChat.reset' was never awaited\n",
      "  team.reset()\n",
      "RuntimeWarning: Enable tracemalloc to get the object allocation traceback\n"
     ]
    },
    {
     "name": "stdout",
     "output_type": "stream",
     "text": [
      "---------- TextMessage (add_1_agent_first) ----------\n",
      "7\n",
      "---------- TextMessage (add_1_agent_second) ----------\n",
      "8\n"
     ]
    },
    {
     "data": {
      "text/plain": [
       "TaskResult(messages=[TextMessage(id='6745d224-9f7b-4563-9417-80e85711809a', source='add_1_agent_first', models_usage=RequestUsage(prompt_tokens=76, completion_tokens=1), metadata={}, created_at=datetime.datetime(2025, 7, 13, 6, 37, 38, 600925, tzinfo=datetime.timezone.utc), content='7', type='TextMessage'), TextMessage(id='0c8042f4-d39a-4716-a4fc-349ac7554d1e', source='add_1_agent_second', models_usage=RequestUsage(prompt_tokens=86, completion_tokens=1), metadata={}, created_at=datetime.datetime(2025, 7, 13, 6, 37, 39, 260147, tzinfo=datetime.timezone.utc), content='8', type='TextMessage')], stop_reason='Maximum number of turns 2 reached.')"
      ]
     },
     "execution_count": 62,
     "metadata": {},
     "output_type": "execute_result"
    }
   ],
   "source": [
    "team.reset()\n",
    "await Console(my_increment_team.run_stream())"
   ]
  },
  {
   "cell_type": "code",
   "execution_count": 63,
   "metadata": {},
   "outputs": [
    {
     "name": "stdout",
     "output_type": "stream",
     "text": [
      "---------- TextMessage (add_1_agent_first) ----------\n",
      "1\n",
      "---------- TextMessage (add_1_agent_second) ----------\n",
      "2\n"
     ]
    },
    {
     "data": {
      "text/plain": [
       "TaskResult(messages=[TextMessage(id='365ba92a-2344-4a77-8599-60cc38956d46', source='add_1_agent_first', models_usage=RequestUsage(prompt_tokens=24, completion_tokens=1), metadata={}, created_at=datetime.datetime(2025, 7, 13, 6, 37, 42, 813595, tzinfo=datetime.timezone.utc), content='1', type='TextMessage'), TextMessage(id='d517d432-3cfa-49e4-a7c9-fd81a935d98c', source='add_1_agent_second', models_usage=RequestUsage(prompt_tokens=34, completion_tokens=1), metadata={}, created_at=datetime.datetime(2025, 7, 13, 6, 37, 43, 773620, tzinfo=datetime.timezone.utc), content='2', type='TextMessage')], stop_reason='Maximum number of turns 2 reached.')"
      ]
     },
     "execution_count": 63,
     "metadata": {},
     "output_type": "execute_result"
    }
   ],
   "source": [
    "await my_increment_team.reset()\n",
    "await Console(my_increment_team.run_stream())"
   ]
  },
  {
   "cell_type": "code",
   "execution_count": 66,
   "id": "2c7bdb72",
   "metadata": {},
   "outputs": [
    {
     "name": "stdout",
     "output_type": "stream",
     "text": [
      "---------- TextMessage (add_1_agent_first) ----------\n",
      "1\n",
      "---------- TextMessage (add_1_agent_first) ----------\n",
      "2\n",
      "---------- TextMessage (add_1_agent_first) ----------\n",
      "2\n",
      "---------- TextMessage (add_1_agent_first) ----------\n",
      "1\n",
      "---------- TextMessage (add_1_agent_first) ----------\n",
      "Add 1 to the new result, which is 1. Provide the outcome.\n"
     ]
    },
    {
     "data": {
      "text/plain": [
       "TaskResult(messages=[TextMessage(id='dd8b7a69-ce0e-44a4-b11e-9e3b42aed2b8', source='add_1_agent_first', models_usage=RequestUsage(prompt_tokens=24, completion_tokens=1), metadata={}, created_at=datetime.datetime(2025, 7, 13, 6, 38, 11, 50992, tzinfo=datetime.timezone.utc), content='1', type='TextMessage'), TextMessage(id='84d9fde1-aa16-4707-84e6-774b9e299d33', source='add_1_agent_first', models_usage=RequestUsage(prompt_tokens=29, completion_tokens=1), metadata={}, created_at=datetime.datetime(2025, 7, 13, 6, 38, 11, 860449, tzinfo=datetime.timezone.utc), content='2', type='TextMessage'), TextMessage(id='5a206b3e-3dd6-4452-bbc1-f4000ea79969', source='add_1_agent_first', models_usage=RequestUsage(prompt_tokens=34, completion_tokens=1), metadata={}, created_at=datetime.datetime(2025, 7, 13, 6, 38, 12, 457324, tzinfo=datetime.timezone.utc), content='2', type='TextMessage'), TextMessage(id='8be26279-7fbe-4a7a-9018-064d0f0670c6', source='add_1_agent_first', models_usage=RequestUsage(prompt_tokens=39, completion_tokens=1), metadata={}, created_at=datetime.datetime(2025, 7, 13, 6, 38, 13, 204520, tzinfo=datetime.timezone.utc), content='1', type='TextMessage'), TextMessage(id='9b1939d6-b78b-4e37-ae76-7a093107c26e', source='add_1_agent_first', models_usage=RequestUsage(prompt_tokens=44, completion_tokens=17), metadata={}, created_at=datetime.datetime(2025, 7, 13, 6, 38, 14, 16069, tzinfo=datetime.timezone.utc), content='Add 1 to the new result, which is 1. Provide the outcome.', type='TextMessage')], stop_reason='Maximum number of turns 5 reached.')"
      ]
     },
     "execution_count": 66,
     "metadata": {},
     "output_type": "execute_result"
    }
   ],
   "source": [
    "my_increment_team = RoundRobinGroupChat(participants=[add_1_agent_first],max_turns=5)\n",
    "await my_increment_team.reset()\n",
    "await Console(my_increment_team.run_stream())"
   ]
  },
  {
   "cell_type": "code",
   "execution_count": 67,
   "id": "a8116d98",
   "metadata": {},
   "outputs": [
    {
     "name": "stdout",
     "output_type": "stream",
     "text": [
      "\n",
      "Task was cancelled.\n"
     ]
    }
   ],
   "source": [
    "from autogen_core import CancellationToken\n",
    "\n",
    "\n",
    "# Create a cancellation token.\n",
    "cancellation_token = CancellationToken()\n",
    "\n",
    "# Use another coroutine to run the team.\n",
    "run = asyncio.create_task(\n",
    "    team.run(\n",
    "        task=\"Translate the poem to Spanish.\",\n",
    "        cancellation_token=cancellation_token,\n",
    "    )\n",
    ")\n",
    "\n",
    "# Cancel the run.\n",
    "cancellation_token.cancel()\n",
    "\n",
    "try:\n",
    "    result = await run  # This will raise a CancelledError.\n",
    "except asyncio.CancelledError as e:\n",
    "    print(e)\n",
    "    print(\"Task was cancelled.\")"
   ]
  }
 ],
 "metadata": {
  "kernelspec": {
   "display_name": "myenv311",
   "language": "python",
   "name": "python3"
  },
  "language_info": {
   "codemirror_mode": {
    "name": "ipython",
    "version": 3
   },
   "file_extension": ".py",
   "mimetype": "text/x-python",
   "name": "python",
   "nbconvert_exporter": "python",
   "pygments_lexer": "ipython3",
   "version": "3.10.18"
  }
 },
 "nbformat": 4,
 "nbformat_minor": 5
}
