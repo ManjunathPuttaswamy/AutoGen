{
 "cells": [
  {
   "cell_type": "markdown",
   "id": "5155f4b1",
   "metadata": {},
   "source": [
    "## Agents in Team\n",
    "\n",
    "A single Agent can only say create a short story for us.\n",
    "but with a team whre many agents work together towards a common goal they can help us in writing or even helping to review, edit etc."
   ]
  },
  {
   "cell_type": "code",
   "execution_count": 1,
   "id": "f6c0bc03",
   "metadata": {},
   "outputs": [],
   "source": [
    "import asyncio\n",
    "from autogen_ext.models.openai import OpenAIChatCompletionClient\n",
    "from dotenv import load_dotenv\n",
    "import os\n",
    "\n",
    "load_dotenv()\n",
    "api_key = os.getenv('OPENAI_API_KEY')\n",
    "model_client = OpenAIChatCompletionClient(model='gpt-4o', api_key=api_key)"
   ]
  },
  {
   "cell_type": "code",
   "execution_count": 2,
   "id": "ef46f4c9",
   "metadata": {},
   "outputs": [],
   "source": [
    "model_client_2 = OpenAIChatCompletionClient(model='gpt-4',api_key=api_key)"
   ]
  },
  {
   "cell_type": "code",
   "execution_count": 3,
   "id": "1e34b6c6",
   "metadata": {},
   "outputs": [],
   "source": [
    "from autogen_agentchat.agents import AssistantAgent\n",
    "\n",
    "dsa_solver = AssistantAgent(\n",
    "    name = 'Complex_DSA_Solver',\n",
    "    model_client=model_client,\n",
    "    description='A DSA solver',\n",
    "    system_message=\"You give code in python to solve complex DSA problems. Give under 100 words\"\n",
    ")\n",
    "\n",
    "code_reviewer = AssistantAgent(\n",
    "    name = 'CODE_REVEIWER',\n",
    "    model_client=model_client_2,\n",
    "    description='A Code Reviewer',\n",
    "    system_message=\"You review the code given by the complex_dsa_solver and make sure it is optimized.Give under 10 words\"\n",
    ")\n",
    "\n",
    "code_editor = AssistantAgent(\n",
    "    name = 'CODE_EDITOR',\n",
    "    model_client=model_client,\n",
    "    description='A Code editor',\n",
    "    system_message=\"You make the code easy to understand and add comments wherever required.Give under 10 words\"\n",
    ")"
   ]
  },
  {
   "cell_type": "code",
   "execution_count": 6,
   "id": "1dd7939b",
   "metadata": {},
   "outputs": [
    {
     "name": "stdout",
     "output_type": "stream",
     "text": [
      "id='7245ac95-f088-46e1-ac93-43c40e81794f' source='User' models_usage=None metadata={} created_at=datetime.datetime(2025, 7, 12, 7, 29, 8, 473882, tzinfo=datetime.timezone.utc) content='Write a simple Hello world code ?' type='TextMessage' \n",
      "\n",
      " \n",
      "\n",
      "id='b65c762d-e185-486a-a5f4-07d2446b4d62' source='Complex_DSA_Solver' models_usage=RequestUsage(prompt_tokens=438, completion_tokens=10) metadata={} created_at=datetime.datetime(2025, 7, 12, 7, 29, 9, 46587, tzinfo=datetime.timezone.utc) content='```python\\nprint(\"Hello, world!\")\\n```' type='TextMessage' \n",
      "\n",
      " \n",
      "\n",
      "id='50d6194f-03a8-4ccd-8ce0-1e8bcfe5e7ef' source='CODE_REVEIWER' models_usage=RequestUsage(prompt_tokens=453, completion_tokens=10) metadata={} created_at=datetime.datetime(2025, 7, 12, 7, 29, 10, 664476, tzinfo=datetime.timezone.utc) content=\"Optimization isn't required, code is efficient.\" type='TextMessage' \n",
      "\n",
      " \n",
      "\n",
      "id='63010243-ca33-4b56-85a6-3b9a221618f0' source='CODE_EDITOR' models_usage=RequestUsage(prompt_tokens=511, completion_tokens=9) metadata={} created_at=datetime.datetime(2025, 7, 12, 7, 29, 13, 311615, tzinfo=datetime.timezone.utc) content=\"Thank you! It's the most straightforward example.\" type='TextMessage' \n",
      "\n",
      " \n",
      "\n",
      "id='a7f0254c-178e-4960-b6ad-4eeb022de08f' source='Complex_DSA_Solver' models_usage=RequestUsage(prompt_tokens=486, completion_tokens=15) metadata={} created_at=datetime.datetime(2025, 7, 12, 7, 29, 15, 78504, tzinfo=datetime.timezone.utc) content='Absolutely! If you need further examples or assistance, feel free to ask.' type='TextMessage' \n",
      "\n",
      " \n",
      "\n",
      "id='45d877b6-3ac9-4946-8fb5-bc86aee5efa0' source='CODE_REVEIWER' models_usage=RequestUsage(prompt_tokens=509, completion_tokens=6) metadata={} created_at=datetime.datetime(2025, 7, 12, 7, 29, 16, 586089, tzinfo=datetime.timezone.utc) content='Code is concise and optimized.' type='TextMessage' \n",
      "\n",
      " \n",
      "\n",
      "id='3f40dc1f-d74c-4e60-a67d-5888beee06b4' source='CODE_EDITOR' models_usage=RequestUsage(prompt_tokens=565, completion_tokens=9) metadata={} created_at=datetime.datetime(2025, 7, 12, 7, 29, 17, 244311, tzinfo=datetime.timezone.utc) content=\"Thanks! It's as basic as it gets.\" type='TextMessage' \n",
      "\n",
      " \n",
      "\n",
      "id='0e30818c-71fb-479f-9614-cbd3bc40afeb' source='Complex_DSA_Solver' models_usage=RequestUsage(prompt_tokens=537, completion_tokens=24) metadata={} created_at=datetime.datetime(2025, 7, 12, 7, 29, 18, 89980, tzinfo=datetime.timezone.utc) content=\"Indeed, it's perfect for demonstrating a basic print operation. If there's anything else you'd like help with, let me know!\" type='TextMessage' \n",
      "\n",
      " \n",
      "\n",
      "id='7ee2aa53-1a4e-455e-8387-3951c3eb879e' source='CODE_REVEIWER' models_usage=RequestUsage(prompt_tokens=573, completion_tokens=7) metadata={} created_at=datetime.datetime(2025, 7, 12, 7, 29, 19, 600857, tzinfo=datetime.timezone.utc) content='Simple and optimized Hello World code.' type='TextMessage' \n",
      "\n",
      " \n",
      "\n",
      "id='be8c372a-af81-48e6-9f23-22a024e170f3' source='CODE_EDITOR' models_usage=RequestUsage(prompt_tokens=629, completion_tokens=10) metadata={} created_at=datetime.datetime(2025, 7, 12, 7, 29, 20, 329038, tzinfo=datetime.timezone.utc) content=\"Thank you! It's the minimal and effective way.\" type='TextMessage' \n",
      "\n",
      " \n",
      "\n",
      "id='909a87f9-5722-43e3-9bc7-d31ab23fd413' source='Complex_DSA_Solver' models_usage=RequestUsage(prompt_tokens=599, completion_tokens=20) metadata={} created_at=datetime.datetime(2025, 7, 12, 7, 29, 21, 122088, tzinfo=datetime.timezone.utc) content='Precisely! If you have any more questions or need different examples, feel free to reach out!' type='TextMessage' \n",
      "\n",
      " \n",
      "\n",
      "id='0b6d1d31-5de7-4e94-b013-b8db7163d616' source='CODE_REVEIWER' models_usage=RequestUsage(prompt_tokens=633, completion_tokens=6) metadata={} created_at=datetime.datetime(2025, 7, 12, 7, 29, 22, 661952, tzinfo=datetime.timezone.utc) content='Code is brief and optimized.' type='TextMessage' \n",
      "\n",
      " \n",
      "\n",
      "id='08bfc694-90f7-42d2-8bf0-91ce4f0b2d47' source='CODE_EDITOR' models_usage=RequestUsage(prompt_tokens=689, completion_tokens=7) metadata={} created_at=datetime.datetime(2025, 7, 12, 7, 29, 23, 444766, tzinfo=datetime.timezone.utc) content=\"Yes, it's straightforward and efficient.\" type='TextMessage' \n",
      "\n",
      " \n",
      "\n",
      "id='b23ec1f4-961c-4abd-aff7-2bdb3684aeee' source='Complex_DSA_Solver' models_usage=RequestUsage(prompt_tokens=653, completion_tokens=23) metadata={} created_at=datetime.datetime(2025, 7, 12, 7, 29, 24, 181481, tzinfo=datetime.timezone.utc) content=\"Absolutely, it's the best version for its purpose. Let me know if there's anything else I can assist you with!\" type='TextMessage' \n",
      "\n",
      " \n",
      "\n",
      "id='c6aabdc3-b036-42c3-a1a2-8d112feb61bd' source='CODE_REVEIWER' models_usage=RequestUsage(prompt_tokens=693, completion_tokens=6) metadata={} created_at=datetime.datetime(2025, 7, 12, 7, 29, 25, 32486, tzinfo=datetime.timezone.utc) content='Code is brief and effective.' type='TextMessage' \n",
      "\n",
      " \n",
      "\n",
      "id='ac8d6d33-89b6-4f84-9db9-9b96730ca292' source='CODE_EDITOR' models_usage=RequestUsage(prompt_tokens=749, completion_tokens=8) metadata={} created_at=datetime.datetime(2025, 7, 12, 7, 29, 26, 307902, tzinfo=datetime.timezone.utc) content=\"Thank you! It's the simplest implementation.\" type='TextMessage' \n",
      "\n",
      " \n",
      "\n"
     ]
    }
   ],
   "source": [
    "from autogen_agentchat.teams import RoundRobinGroupChat\n",
    "from autogen_agentchat.messages import TextMessage\n",
    "\n",
    "team = RoundRobinGroupChat(\n",
    "    participants=[dsa_solver,code_reviewer,code_editor],\n",
    "    max_turns=15 # -----># maximum number of Message before it stops between the agents.\n",
    ")\n",
    "\n",
    "async def test_team():\n",
    "    task = TextMessage(content='Write a simple Hello world code ?',source='User')\n",
    "    \n",
    "    result = await team.run(task=task)\n",
    "\n",
    "    for each_agent_message in result.messages:\n",
    "        print(f'{((each_agent_message))} ' )\n",
    "        print('\\n \\n')\n",
    "\n",
    "\n",
    "await test_team()"
   ]
  },
  {
   "cell_type": "code",
   "execution_count": 7,
   "id": "84ed0ec4",
   "metadata": {},
   "outputs": [
    {
     "name": "stdout",
     "output_type": "stream",
     "text": [
      "user id='cb7692c5-a289-42b3-9f64-cba006ad8f68' source='user' models_usage=None metadata={} created_at=datetime.datetime(2025, 7, 12, 7, 30, 8, 972112, tzinfo=datetime.timezone.utc) content='Write a simple Hello world code ?' type='TextMessage'\n",
      "Complex_DSA_Solver id='dc4d346b-f5ae-4e9a-a560-bd9891b77627' source='Complex_DSA_Solver' models_usage=RequestUsage(prompt_tokens=36, completion_tokens=42) metadata={} created_at=datetime.datetime(2025, 7, 12, 7, 30, 9, 918632, tzinfo=datetime.timezone.utc) content='Here is a simple \"Hello, World!\" program in Python:\\n\\n```python\\nprint(\"Hello, World!\")\\n```\\n\\nSimply run this code, and it will display \"Hello, World!\" in the console.' type='TextMessage'\n",
      "CODE_REVEIWER id='65d96dc4-3d1e-4460-88c9-3c28167ba13c' source='CODE_REVEIWER' models_usage=RequestUsage(prompt_tokens=94, completion_tokens=7) metadata={} created_at=datetime.datetime(2025, 7, 12, 7, 30, 11, 457773, tzinfo=datetime.timezone.utc) content='Code is concise and efficient enough.' type='TextMessage'\n",
      "CODE_EDITOR id='dd16ae18-331f-4c98-81a0-4a2bbdacfde0' source='CODE_EDITOR' models_usage=RequestUsage(prompt_tokens=106, completion_tokens=16) metadata={} created_at=datetime.datetime(2025, 7, 12, 7, 30, 12, 617110, tzinfo=datetime.timezone.utc) content='Thanks! Simplicity is key in a \"Hello, World!\" program.' type='TextMessage'\n",
      "Complex_DSA_Solver id='ac3b1dc5-3d3e-4d94-b71e-5f8532787ab7' source='Complex_DSA_Solver' models_usage=RequestUsage(prompt_tokens=122, completion_tokens=28) metadata={} created_at=datetime.datetime(2025, 7, 12, 7, 30, 15, 218718, tzinfo=datetime.timezone.utc) content='Absolutely! Keeping it simple is a great way to start. If you have any other questions or need further assistance, feel free to ask!' type='TextMessage'\n",
      "CODE_REVEIWER id='6a987ac1-26e8-4c8f-9477-300f590c78e0' source='CODE_REVEIWER' models_usage=RequestUsage(prompt_tokens=166, completion_tokens=5) metadata={} created_at=datetime.datetime(2025, 7, 12, 7, 30, 16, 586130, tzinfo=datetime.timezone.utc) content='Code is already optimized.' type='TextMessage'\n",
      "CODE_EDITOR id='cdc66ae7-4eed-43ea-a8c3-7600c5ceb26c' source='CODE_EDITOR' models_usage=RequestUsage(prompt_tokens=179, completion_tokens=13) metadata={} created_at=datetime.datetime(2025, 7, 12, 7, 30, 17, 451605, tzinfo=datetime.timezone.utc) content='Great to hear! Let me know if you need anything else.' type='TextMessage'\n",
      "Complex_DSA_Solver id='a809f82e-260f-4c60-98d4-ac3622240567' source='Complex_DSA_Solver' models_usage=RequestUsage(prompt_tokens=189, completion_tokens=20) metadata={} created_at=datetime.datetime(2025, 7, 12, 7, 30, 18, 214849, tzinfo=datetime.timezone.utc) content='Thank you! If you have any more questions or need further assistance, feel free to reach out.' type='TextMessage'\n",
      "CODE_REVEIWER id='89626b7b-6339-430e-ad8c-6bef8d9dfe80' source='CODE_REVEIWER' models_usage=RequestUsage(prompt_tokens=225, completion_tokens=5) metadata={} created_at=datetime.datetime(2025, 7, 12, 7, 30, 19, 64988, tzinfo=datetime.timezone.utc) content='Code is already optimized.' type='TextMessage'\n",
      "CODE_EDITOR id='dbd989e2-40fc-48b5-a80c-1c2a34fce86d' source='CODE_EDITOR' models_usage=RequestUsage(prompt_tokens=241, completion_tokens=11) metadata={} created_at=datetime.datetime(2025, 7, 12, 7, 30, 19, 819976, tzinfo=datetime.timezone.utc) content='Great, let me know if you need anything else!' type='TextMessage'\n",
      "Complex_DSA_Solver id='5d0ba9b8-eb17-4d49-919e-cc0f23e7df7f' source='Complex_DSA_Solver' models_usage=RequestUsage(prompt_tokens=246, completion_tokens=15) metadata={} created_at=datetime.datetime(2025, 7, 12, 7, 30, 20, 532715, tzinfo=datetime.timezone.utc) content=\"Thank you! If there's anything else you need, feel free to ask.\" type='TextMessage'\n",
      "CODE_REVEIWER id='1cebbbc5-4c3c-48a5-81c9-1f2bf5a5ab49' source='CODE_REVEIWER' models_usage=RequestUsage(prompt_tokens=278, completion_tokens=7) metadata={} created_at=datetime.datetime(2025, 7, 12, 7, 30, 21, 815786, tzinfo=datetime.timezone.utc) content='No optimization needed for this code.' type='TextMessage'\n",
      "CODE_EDITOR id='752b303b-9e1a-492d-8d39-36f10340be6c' source='CODE_EDITOR' models_usage=RequestUsage(prompt_tokens=298, completion_tokens=7) metadata={} created_at=datetime.datetime(2025, 7, 12, 7, 30, 22, 715744, tzinfo=datetime.timezone.utc) content=\"Perfect, it's simple as is.\" type='TextMessage'\n",
      "Complex_DSA_Solver id='e770c139-93f3-4ac2-8325-4021a6aba3e4' source='Complex_DSA_Solver' models_usage=RequestUsage(prompt_tokens=296, completion_tokens=15) metadata={} created_at=datetime.datetime(2025, 7, 12, 7, 30, 23, 528091, tzinfo=datetime.timezone.utc) content='Great to hear! If you need further assistance, just let me know.' type='TextMessage'\n",
      "CODE_REVEIWER id='2ab9f40c-58ec-4d8f-a0bb-4cf65285155e' source='CODE_REVEIWER' models_usage=RequestUsage(prompt_tokens=329, completion_tokens=8) metadata={} created_at=datetime.datetime(2025, 7, 12, 7, 30, 25, 114689, tzinfo=datetime.timezone.utc) content='Optimization not required for this code.' type='TextMessage'\n",
      "CODE_EDITOR id='ec0b2418-d388-4fa0-b904-777608ed1669' source='CODE_EDITOR' models_usage=RequestUsage(prompt_tokens=351, completion_tokens=8) metadata={} created_at=datetime.datetime(2025, 7, 12, 7, 30, 25, 788434, tzinfo=datetime.timezone.utc) content=\"Perfect, it's already simple and effective.\" type='TextMessage'\n",
      "Stop Reason: Maximum number of turns 15 reached.\n"
     ]
    }
   ],
   "source": [
    "await team.reset()  # Reset the team for a new task.\n",
    "from autogen_agentchat.base import TaskResult\n",
    "\n",
    "async for message in team.run_stream(task=\"Write a simple Hello world code ?\"):  # type: ignore\n",
    "    if isinstance(message, TaskResult):\n",
    "        print(\"Stop Reason:\", message.stop_reason)\n",
    "    else:\n",
    "        print(message.source,message)"
   ]
  },
  {
   "cell_type": "code",
   "execution_count": 8,
   "id": "4d60b2a3",
   "metadata": {},
   "outputs": [
    {
     "name": "stdout",
     "output_type": "stream",
     "text": [
      "---------- TextMessage (user) ----------\n",
      "Write a simple Hello world code.\n",
      "---------- TextMessage (Complex_DSA_Solver) ----------\n",
      "Sure! Here is a simple \"Hello, World!\" program in Python:\n",
      "\n",
      "```python\n",
      "print(\"Hello, World!\")\n",
      "```\n",
      "\n",
      "This code uses the `print()` function to display the message \"Hello, World!\" on the screen.\n",
      "---------- TextMessage (CODE_REVEIWER) ----------\n",
      "Code is already optimized.\n",
      "---------- TextMessage (CODE_EDITOR) ----------\n",
      "Great to hear! It's simple and clear.\n",
      "---------- TextMessage (Complex_DSA_Solver) ----------\n",
      "If you have any other code or need further help, feel free to ask!\n",
      "---------- TextMessage (CODE_REVEIWER) ----------\n",
      "Understood. Waiting for further instructions.\n",
      "---------- TextMessage (CODE_EDITOR) ----------\n",
      "Sure! Ready to assist whenever needed.\n",
      "---------- TextMessage (Complex_DSA_Solver) ----------\n",
      "Just let me know if you need any more help or code editing!\n",
      "---------- TextMessage (CODE_REVEIWER) ----------\n",
      "Code is already at maximum efficiency.\n",
      "---------- TextMessage (CODE_EDITOR) ----------\n",
      "Thanks for confirming. Let me know if needed.\n",
      "---------- TextMessage (Complex_DSA_Solver) ----------\n",
      "All right, feel free to reach out if there's anything else!\n",
      "---------- TextMessage (CODE_REVEIWER) ----------\n",
      "Code is already optimal.\n",
      "---------- TextMessage (CODE_EDITOR) ----------\n",
      "Thanks! Reach out if you need assistance.\n",
      "---------- TextMessage (Complex_DSA_Solver) ----------\n",
      "Absolutely, just let me know if you need anything else!\n",
      "---------- TextMessage (CODE_REVEIWER) ----------\n",
      "No optimization required. Code is efficient.\n",
      "---------- TextMessage (CODE_EDITOR) ----------\n",
      "Perfect! Let me know if you need help.\n"
     ]
    },
    {
     "data": {
      "text/plain": [
       "TaskResult(messages=[TextMessage(id='94b6d234-3a6c-4766-8cff-171bc9956084', source='user', models_usage=None, metadata={}, created_at=datetime.datetime(2025, 7, 12, 7, 30, 55, 463122, tzinfo=datetime.timezone.utc), content='Write a simple Hello world code.', type='TextMessage'), TextMessage(id='f0b179fc-74f9-4fc8-b706-cfeab25cdf48', source='Complex_DSA_Solver', models_usage=RequestUsage(prompt_tokens=36, completion_tokens=47), metadata={}, created_at=datetime.datetime(2025, 7, 12, 7, 31, 0, 218272, tzinfo=datetime.timezone.utc), content='Sure! Here is a simple \"Hello, World!\" program in Python:\\n\\n```python\\nprint(\"Hello, World!\")\\n```\\n\\nThis code uses the `print()` function to display the message \"Hello, World!\" on the screen.', type='TextMessage'), TextMessage(id='a1c8ed89-8ff5-4ab2-8436-1be800827bda', source='CODE_REVEIWER', models_usage=RequestUsage(prompt_tokens=99, completion_tokens=5), metadata={}, created_at=datetime.datetime(2025, 7, 12, 7, 31, 1, 178182, tzinfo=datetime.timezone.utc), content='Code is already optimized.', type='TextMessage'), TextMessage(id='24fe2cff-d0cd-405a-81b4-908b8835b2a8', source='CODE_EDITOR', models_usage=RequestUsage(prompt_tokens=109, completion_tokens=9), metadata={}, created_at=datetime.datetime(2025, 7, 12, 7, 31, 1, 799122, tzinfo=datetime.timezone.utc), content=\"Great to hear! It's simple and clear.\", type='TextMessage'), TextMessage(id='93e27f60-436b-44fb-aa7f-6c692797b359', source='Complex_DSA_Solver', models_usage=RequestUsage(prompt_tokens=118, completion_tokens=16), metadata={}, created_at=datetime.datetime(2025, 7, 12, 7, 31, 3, 160888, tzinfo=datetime.timezone.utc), content='If you have any other code or need further help, feel free to ask!', type='TextMessage'), TextMessage(id='c48b734a-d00a-498b-a41e-a5a120b7312a', source='CODE_REVEIWER', models_usage=RequestUsage(prompt_tokens=151, completion_tokens=8), metadata={}, created_at=datetime.datetime(2025, 7, 12, 7, 31, 4, 246910, tzinfo=datetime.timezone.utc), content='Understood. Waiting for further instructions.', type='TextMessage'), TextMessage(id='61884a48-4925-46d8-a803-cabf9e667be6', source='CODE_EDITOR', models_usage=RequestUsage(prompt_tokens=166, completion_tokens=8), metadata={}, created_at=datetime.datetime(2025, 7, 12, 7, 31, 4, 948745, tzinfo=datetime.timezone.utc), content='Sure! Ready to assist whenever needed.', type='TextMessage'), TextMessage(id='a4b1a6eb-959b-4eb9-b0c7-8154090c2a66', source='Complex_DSA_Solver', models_usage=RequestUsage(prompt_tokens=171, completion_tokens=14), metadata={}, created_at=datetime.datetime(2025, 7, 12, 7, 31, 5, 607827, tzinfo=datetime.timezone.utc), content='Just let me know if you need any more help or code editing!', type='TextMessage'), TextMessage(id='bc1b298a-1a95-4e17-a253-d293f00986fc', source='CODE_REVEIWER', models_usage=RequestUsage(prompt_tokens=202, completion_tokens=7), metadata={}, created_at=datetime.datetime(2025, 7, 12, 7, 31, 7, 78444, tzinfo=datetime.timezone.utc), content='Code is already at maximum efficiency.', type='TextMessage'), TextMessage(id='7b334390-6129-46f4-9f15-d2b0b7fc3616', source='CODE_EDITOR', models_usage=RequestUsage(prompt_tokens=219, completion_tokens=10), metadata={}, created_at=datetime.datetime(2025, 7, 12, 7, 31, 7, 929115, tzinfo=datetime.timezone.utc), content='Thanks for confirming. Let me know if needed.', type='TextMessage'), TextMessage(id='1b0cfb76-3e7c-43a7-979e-3e406e138315', source='Complex_DSA_Solver', models_usage=RequestUsage(prompt_tokens=223, completion_tokens=13), metadata={}, created_at=datetime.datetime(2025, 7, 12, 7, 31, 8, 728837, tzinfo=datetime.timezone.utc), content=\"All right, feel free to reach out if there's anything else!\", type='TextMessage'), TextMessage(id='3350402e-95fc-4f04-b522-a324ebc74b06', source='CODE_REVEIWER', models_usage=RequestUsage(prompt_tokens=254, completion_tokens=5), metadata={}, created_at=datetime.datetime(2025, 7, 12, 7, 31, 9, 680514, tzinfo=datetime.timezone.utc), content='Code is already optimal.', type='TextMessage'), TextMessage(id='49737b8d-f1fe-43e8-8e7b-98c628ec4be1', source='CODE_EDITOR', models_usage=RequestUsage(prompt_tokens=271, completion_tokens=9), metadata={}, created_at=datetime.datetime(2025, 7, 12, 7, 31, 16, 585155, tzinfo=datetime.timezone.utc), content='Thanks! Reach out if you need assistance.', type='TextMessage'), TextMessage(id='249cbd39-5971-41e7-b298-f6ae5116123c', source='Complex_DSA_Solver', models_usage=RequestUsage(prompt_tokens=271, completion_tokens=12), metadata={}, created_at=datetime.datetime(2025, 7, 12, 7, 31, 17, 676994, tzinfo=datetime.timezone.utc), content='Absolutely, just let me know if you need anything else!', type='TextMessage'), TextMessage(id='daeab8a4-d871-4d0a-b717-6a2bdc94c6c6', source='CODE_REVEIWER', models_usage=RequestUsage(prompt_tokens=301, completion_tokens=8), metadata={}, created_at=datetime.datetime(2025, 7, 12, 7, 31, 18, 659505, tzinfo=datetime.timezone.utc), content='No optimization required. Code is efficient.', type='TextMessage'), TextMessage(id='cd153a86-c2ab-484b-ba68-66fea9dcfd5d', source='CODE_EDITOR', models_usage=RequestUsage(prompt_tokens=324, completion_tokens=10), metadata={}, created_at=datetime.datetime(2025, 7, 12, 7, 31, 19, 408392, tzinfo=datetime.timezone.utc), content='Perfect! Let me know if you need help.', type='TextMessage')], stop_reason='Maximum number of turns 15 reached.')"
      ]
     },
     "execution_count": 8,
     "metadata": {},
     "output_type": "execute_result"
    }
   ],
   "source": [
    "from autogen_agentchat.ui import Console\n",
    "await team.reset()  # Reset the team for a new task.\n",
    "await Console(team.run_stream(task=\"Write a simple Hello world code.\"))  # Stream the messages to the console."
   ]
  },
  {
   "cell_type": "code",
   "execution_count": 9,
   "id": "a0cc7bbd",
   "metadata": {},
   "outputs": [
    {
     "name": "stdout",
     "output_type": "stream",
     "text": [
      "---------- TextMessage (user) ----------\n",
      "conitnue.\n",
      "---------- TextMessage (Complex_DSA_Solver) ----------\n",
      "Please provide more information or let me know what you would like to continue with. I'm here to help!\n",
      "---------- TextMessage (CODE_REVEIWER) ----------\n",
      "Awaiting for further instructions.\n",
      "---------- TextMessage (CODE_EDITOR) ----------\n",
      "Ready to assist whenever you're ready!\n",
      "---------- TextMessage (Complex_DSA_Solver) ----------\n",
      "Just let me know how I can help further!\n",
      "---------- TextMessage (CODE_REVEIWER) ----------\n",
      "No optimization needed. Code is perfect.\n",
      "---------- TextMessage (CODE_EDITOR) ----------\n",
      "Great! Let me know if you need anything.\n",
      "---------- TextMessage (Complex_DSA_Solver) ----------\n",
      "Feel free to reach out if you need more help!\n",
      "---------- TextMessage (CODE_REVEIWER) ----------\n",
      "Already optimized. Ready for next task.\n",
      "---------- TextMessage (CODE_EDITOR) ----------\n",
      "All set! Ready for your next request.\n",
      "---------- TextMessage (Complex_DSA_Solver) ----------\n",
      "Great! Just let me know what you'd like to tackle next!\n",
      "---------- TextMessage (CODE_REVEIWER) ----------\n",
      "No optimization needed, code is optimized.\n",
      "---------- TextMessage (CODE_EDITOR) ----------\n",
      "Perfect! Let me know if further assistance is required.\n",
      "---------- TextMessage (Complex_DSA_Solver) ----------\n",
      "All set. Just let me know if you need anything else!\n",
      "---------- TextMessage (CODE_REVEIWER) ----------\n",
      "Optimization is not required. Ready for next.\n",
      "---------- TextMessage (CODE_EDITOR) ----------\n",
      "Great! Let's move on to the next task.\n"
     ]
    },
    {
     "data": {
      "text/plain": [
       "TaskResult(messages=[TextMessage(id='83a73b11-b0b2-4d9d-bd0c-01185c500211', source='user', models_usage=None, metadata={}, created_at=datetime.datetime(2025, 7, 12, 7, 31, 43, 402008, tzinfo=datetime.timezone.utc), content='conitnue.', type='TextMessage'), TextMessage(id='e22fa871-2a24-49b3-a4b8-79bc84ab4f03', source='Complex_DSA_Solver', models_usage=RequestUsage(prompt_tokens=332, completion_tokens=21), metadata={}, created_at=datetime.datetime(2025, 7, 12, 7, 31, 44, 294570, tzinfo=datetime.timezone.utc), content=\"Please provide more information or let me know what you would like to continue with. I'm here to help!\", type='TextMessage'), TextMessage(id='cc7f62f7-e4cd-4a3b-888e-3d41336cef2f', source='CODE_REVEIWER', models_usage=RequestUsage(prompt_tokens=372, completion_tokens=6), metadata={}, created_at=datetime.datetime(2025, 7, 12, 7, 31, 45, 657467, tzinfo=datetime.timezone.utc), content='Awaiting for further instructions.', type='TextMessage'), TextMessage(id='970a4105-d23a-4c62-940d-511f9b88cc81', source='CODE_EDITOR', models_usage=RequestUsage(prompt_tokens=395, completion_tokens=7), metadata={}, created_at=datetime.datetime(2025, 7, 12, 7, 31, 46, 321669, tzinfo=datetime.timezone.utc), content=\"Ready to assist whenever you're ready!\", type='TextMessage'), TextMessage(id='6452c118-d1a7-4b15-b1a2-dc75dcec2581', source='Complex_DSA_Solver', models_usage=RequestUsage(prompt_tokens=387, completion_tokens=10), metadata={}, created_at=datetime.datetime(2025, 7, 12, 7, 31, 47, 268068, tzinfo=datetime.timezone.utc), content='Just let me know how I can help further!', type='TextMessage'), TextMessage(id='f5c5dd55-8e16-4958-811f-ff848ec4eedd', source='CODE_REVEIWER', models_usage=RequestUsage(prompt_tokens=417, completion_tokens=8), metadata={}, created_at=datetime.datetime(2025, 7, 12, 7, 31, 48, 921957, tzinfo=datetime.timezone.utc), content='No optimization needed. Code is perfect.', type='TextMessage'), TextMessage(id='0d1a8e55-78ee-4913-bd2c-564e9387c983', source='CODE_EDITOR', models_usage=RequestUsage(prompt_tokens=444, completion_tokens=10), metadata={}, created_at=datetime.datetime(2025, 7, 12, 7, 31, 49, 622881, tzinfo=datetime.timezone.utc), content='Great! Let me know if you need anything.', type='TextMessage'), TextMessage(id='53b4f331-9f40-49ac-ac91-c6278abf011f', source='Complex_DSA_Solver', models_usage=RequestUsage(prompt_tokens=436, completion_tokens=11), metadata={}, created_at=datetime.datetime(2025, 7, 12, 7, 31, 50, 417652, tzinfo=datetime.timezone.utc), content='Feel free to reach out if you need more help!', type='TextMessage'), TextMessage(id='054d6e3f-3163-4207-901e-7741f82a24ba', source='CODE_REVEIWER', models_usage=RequestUsage(prompt_tokens=467, completion_tokens=8), metadata={}, created_at=datetime.datetime(2025, 7, 12, 7, 31, 51, 865243, tzinfo=datetime.timezone.utc), content='Already optimized. Ready for next task.', type='TextMessage'), TextMessage(id='e2277392-23a0-4cbc-b591-6ddc01c9c453', source='CODE_EDITOR', models_usage=RequestUsage(prompt_tokens=497, completion_tokens=9), metadata={}, created_at=datetime.datetime(2025, 7, 12, 7, 31, 52, 718676, tzinfo=datetime.timezone.utc), content='All set! Ready for your next request.', type='TextMessage'), TextMessage(id='72fb48cd-48b3-4bfc-be75-5b2f915f9b3c', source='Complex_DSA_Solver', models_usage=RequestUsage(prompt_tokens=485, completion_tokens=13), metadata={}, created_at=datetime.datetime(2025, 7, 12, 7, 31, 53, 639937, tzinfo=datetime.timezone.utc), content=\"Great! Just let me know what you'd like to tackle next!\", type='TextMessage'), TextMessage(id='dc9873bf-8fd5-41a4-8687-12022eb10da9', source='CODE_REVEIWER', models_usage=RequestUsage(prompt_tokens=519, completion_tokens=8), metadata={}, created_at=datetime.datetime(2025, 7, 12, 7, 31, 55, 177171, tzinfo=datetime.timezone.utc), content='No optimization needed, code is optimized.', type='TextMessage'), TextMessage(id='33be9e1e-4f70-4c37-b726-c5c3219cee0f', source='CODE_EDITOR', models_usage=RequestUsage(prompt_tokens=551, completion_tokens=11), metadata={}, created_at=datetime.datetime(2025, 7, 12, 7, 31, 56, 177331, tzinfo=datetime.timezone.utc), content='Perfect! Let me know if further assistance is required.', type='TextMessage'), TextMessage(id='6b3731a9-1f6c-4188-bcc1-b2d4d66c0e5f', source='Complex_DSA_Solver', models_usage=RequestUsage(prompt_tokens=538, completion_tokens=13), metadata={}, created_at=datetime.datetime(2025, 7, 12, 7, 31, 56, 952844, tzinfo=datetime.timezone.utc), content='All set. Just let me know if you need anything else!', type='TextMessage'), TextMessage(id='00d0cc84-4523-4a83-9ee2-adb1d9d7c6ad', source='CODE_REVEIWER', models_usage=RequestUsage(prompt_tokens=572, completion_tokens=10), metadata={}, created_at=datetime.datetime(2025, 7, 12, 7, 31, 57, 919905, tzinfo=datetime.timezone.utc), content='Optimization is not required. Ready for next.', type='TextMessage'), TextMessage(id='6ec25dca-942c-446c-8124-b7d8e813e359', source='CODE_EDITOR', models_usage=RequestUsage(prompt_tokens=608, completion_tokens=10), metadata={}, created_at=datetime.datetime(2025, 7, 12, 7, 31, 58, 804816, tzinfo=datetime.timezone.utc), content=\"Great! Let's move on to the next task.\", type='TextMessage')], stop_reason='Maximum number of turns 15 reached.')"
      ]
     },
     "execution_count": 9,
     "metadata": {},
     "output_type": "execute_result"
    }
   ],
   "source": [
    "await Console(team.run_stream(task=\"conitnue.\"))"
   ]
  },
  {
   "cell_type": "code",
   "execution_count": null,
   "id": "29c0f7aa",
   "metadata": {},
   "outputs": [],
   "source": [
    "1. User Proxy \n",
    "\n",
    "2. Termination Condition"
   ]
  },
  {
   "cell_type": "code",
   "execution_count": null,
   "id": "118f7533",
   "metadata": {},
   "outputs": [],
   "source": [
    "print()"
   ]
  },
  {
   "cell_type": "code",
   "execution_count": 10,
   "metadata": {},
   "outputs": [],
   "source": [
    "from autogen_agentchat.agents import AssistantAgent\n",
    "add_1_agent_first = AssistantAgent(\n",
    "    name = 'add_1_agent_first',\n",
    "    model_client=model_client,\n",
    "    system_message=\"Add 1 to the number, first number is 0. Give result as output\"\n",
    ")\n",
    "\n",
    "add_1_agent_second = AssistantAgent(\n",
    "    name = 'add_1_agent_second',\n",
    "    model_client=model_client,\n",
    "    system_message=\"Add 1 to the number you got from previous run. Give result as output.\"\n",
    ")\n",
    " \n",
    "add_1_agent_third = AssistantAgent(\n",
    "    name = 'add_1_agent_third',\n",
    "    model_client=model_client,\n",
    "    system_message=\"Add 1 to the number from previous run. Give result as output.\"\n",
    ")"
   ]
  },
  {
   "cell_type": "code",
   "execution_count": 16,
   "id": "2ac4f36d",
   "metadata": {},
   "outputs": [],
   "source": [
    "my_increment_team = RoundRobinGroupChat(participants=[add_1_agent_first,add_1_agent_second,add_1_agent_third],max_turns=2)\n"
   ]
  },
  {
   "cell_type": "markdown",
   "id": "1ed4ebce",
   "metadata": {},
   "source": [
    "### Resume a Team"
   ]
  },
  {
   "cell_type": "code",
   "execution_count": 20,
   "id": "3b43b7d1",
   "metadata": {},
   "outputs": [
    {
     "name": "stdout",
     "output_type": "stream",
     "text": [
      "---------- TextMessage (add_1_agent_first) ----------\n",
      "16\n",
      "---------- TextMessage (add_1_agent_second) ----------\n",
      "17\n"
     ]
    },
    {
     "data": {
      "text/plain": [
       "TaskResult(messages=[TextMessage(id='8648b0c9-a7a8-4359-a5e5-2fee82bb6592', source='add_1_agent_first', models_usage=RequestUsage(prompt_tokens=159, completion_tokens=1), metadata={}, created_at=datetime.datetime(2025, 7, 12, 7, 34, 44, 14539, tzinfo=datetime.timezone.utc), content='16', type='TextMessage'), TextMessage(id='d97a132e-42d0-45cf-bd0c-cbb9287c59b9', source='add_1_agent_second', models_usage=RequestUsage(prompt_tokens=179, completion_tokens=1), metadata={}, created_at=datetime.datetime(2025, 7, 12, 7, 34, 44, 511486, tzinfo=datetime.timezone.utc), content='17', type='TextMessage')], stop_reason='Maximum number of turns 2 reached.')"
      ]
     },
     "execution_count": 20,
     "metadata": {},
     "output_type": "execute_result"
    }
   ],
   "source": [
    "await Console(my_increment_team.run_stream())"
   ]
  },
  {
   "cell_type": "code",
   "execution_count": 18,
   "id": "f172c2a8",
   "metadata": {},
   "outputs": [
    {
     "name": "stdout",
     "output_type": "stream",
     "text": [
      "---------- TextMessage (add_1_agent_third) ----------\n",
      "12\n",
      "---------- TextMessage (add_1_agent_first) ----------\n",
      "13\n"
     ]
    },
    {
     "data": {
      "text/plain": [
       "TaskResult(messages=[TextMessage(id='23c0929e-9ea1-4f35-82a6-056957b25482', source='add_1_agent_third', models_usage=RequestUsage(prompt_tokens=142, completion_tokens=1), metadata={}, created_at=datetime.datetime(2025, 7, 12, 7, 34, 7, 369033, tzinfo=datetime.timezone.utc), content='12', type='TextMessage'), TextMessage(id='5dcd766a-4602-4e53-99cd-05a7f6fd4282', source='add_1_agent_first', models_usage=RequestUsage(prompt_tokens=133, completion_tokens=1), metadata={}, created_at=datetime.datetime(2025, 7, 12, 7, 34, 7, 939123, tzinfo=datetime.timezone.utc), content='13', type='TextMessage')], stop_reason='Maximum number of turns 2 reached.')"
      ]
     },
     "execution_count": 18,
     "metadata": {},
     "output_type": "execute_result"
    }
   ],
   "source": [
    "await Console(my_increment_team.run_stream())"
   ]
  },
  {
   "cell_type": "code",
   "execution_count": 19,
   "id": "e1f9a7fd",
   "metadata": {},
   "outputs": [
    {
     "name": "stdout",
     "output_type": "stream",
     "text": [
      "---------- TextMessage (add_1_agent_second) ----------\n",
      "14\n",
      "---------- TextMessage (add_1_agent_third) ----------\n",
      "15\n"
     ]
    },
    {
     "data": {
      "text/plain": [
       "TaskResult(messages=[TextMessage(id='77ae90be-31e7-40d0-8a42-c600530436b5', source='add_1_agent_second', models_usage=RequestUsage(prompt_tokens=153, completion_tokens=1), metadata={}, created_at=datetime.datetime(2025, 7, 12, 7, 34, 10, 635026, tzinfo=datetime.timezone.utc), content='14', type='TextMessage'), TextMessage(id='fb7fd9b9-2c06-4d9d-92e1-609e32b98c5c', source='add_1_agent_third', models_usage=RequestUsage(prompt_tokens=167, completion_tokens=1), metadata={}, created_at=datetime.datetime(2025, 7, 12, 7, 34, 11, 301615, tzinfo=datetime.timezone.utc), content='15', type='TextMessage')], stop_reason='Maximum number of turns 2 reached.')"
      ]
     },
     "execution_count": 19,
     "metadata": {},
     "output_type": "execute_result"
    }
   ],
   "source": [
    "await team.reset()\n",
    "await Console(my_increment_team.run_stream())"
   ]
  },
  {
   "cell_type": "code",
   "execution_count": 21,
   "id": "5b784279",
   "metadata": {},
   "outputs": [
    {
     "name": "stdout",
     "output_type": "stream",
     "text": [
      "---------- TextMessage (add_1_agent_first) ----------\n",
      "1\n",
      "---------- TextMessage (add_1_agent_second) ----------\n",
      "2\n"
     ]
    },
    {
     "data": {
      "text/plain": [
       "TaskResult(messages=[TextMessage(id='c4b21a1c-0c5e-42e2-838d-4ae041efb0a0', source='add_1_agent_first', models_usage=RequestUsage(prompt_tokens=24, completion_tokens=1), metadata={}, created_at=datetime.datetime(2025, 7, 12, 7, 35, 19, 687882, tzinfo=datetime.timezone.utc), content='1', type='TextMessage'), TextMessage(id='eb6e13f1-094c-4720-8367-fb48ac2fdf69', source='add_1_agent_second', models_usage=RequestUsage(prompt_tokens=34, completion_tokens=1), metadata={}, created_at=datetime.datetime(2025, 7, 12, 7, 35, 20, 225211, tzinfo=datetime.timezone.utc), content='2', type='TextMessage')], stop_reason='Maximum number of turns 2 reached.')"
      ]
     },
     "execution_count": 21,
     "metadata": {},
     "output_type": "execute_result"
    }
   ],
   "source": [
    "await my_increment_team.reset()\n",
    "await Console(my_increment_team.run_stream())"
   ]
  }
 ],
 "metadata": {
  "kernelspec": {
   "display_name": "myenv311",
   "language": "python",
   "name": "python3"
  },
  "language_info": {
   "codemirror_mode": {
    "name": "ipython",
    "version": 3
   },
   "file_extension": ".py",
   "mimetype": "text/x-python",
   "name": "python",
   "nbconvert_exporter": "python",
   "pygments_lexer": "ipython3",
   "version": "3.10.18"
  }
 },
 "nbformat": 4,
 "nbformat_minor": 5
}
